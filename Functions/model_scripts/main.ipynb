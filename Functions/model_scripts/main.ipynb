{
 "cells": [
  {
   "cell_type": "markdown",
   "metadata": {},
   "source": [
    "## Hyperparameter search\n",
    "\n",
    "Source: https://github.com/itdxer/neupy/blob/master/notebooks/Hyperparameter%20optimization%20for%20Neural%20Networks.ipynb\n",
    "and http://neupy.com/2016/12/17/hyperparameter_optimization_for_neural_networks.html#id14\n",
    "\n",
    "```python\n",
    "Hyperparams to train:\n",
    "1. lamda\n",
    "2. number of hidden layers\n",
    "3. number of hidden units\n",
    "3. starter learning rate\n",
    "5. use_sigmoid_h1\n",
    "6. use_sigmoid_h2```"
   ]
  },
  {
   "cell_type": "markdown",
   "metadata": {},
   "source": [
    "df_tfs_random = gv.df_tfs\n",
    "df_dhss_random = gv.df_dhss"
   ]
  },
  {
   "cell_type": "code",
   "execution_count": null,
   "metadata": {},
   "outputs": [],
   "source": [
    "sns.kdeplot(df_tfs_random.index.get_level_values(\"pcc\"), color=\"orange\", label=\"random tfs\")\n",
    "sns.kdeplot(gv.df_tfs.index.get_level_values(\"pcc\"), color=\"red\", label=\"real tfs\")"
   ]
  },
  {
   "cell_type": "code",
   "execution_count": null,
   "metadata": {},
   "outputs": [],
   "source": [
    "gv.df_tfs"
   ]
  },
  {
   "cell_type": "code",
   "execution_count": null,
   "metadata": {
    "collapsed": true
   },
   "outputs": [],
   "source": []
  },
  {
   "cell_type": "code",
   "execution_count": null,
   "metadata": {
    "collapsed": true
   },
   "outputs": [],
   "source": []
  },
  {
   "cell_type": "code",
   "execution_count": null,
   "metadata": {
    "collapsed": true
   },
   "outputs": [],
   "source": [
    "import time\n",
    "import os\n",
    "import sys\n",
    "sys.path = sys.path[1:]\n",
    "sys.path.insert(0, os.path.join(os.getcwd(), \"helper_scripts\"))  # pretending we are running main.py in jupyter\n",
    "\n",
    "from global_variables_final_for_git import Global_Vars\n",
    "from prep_for_model_for_git import Model_preparation\n",
    "\n",
    "import hyperopt\n",
    "from hyperopt import fmin\n",
    "import HPO_helper\n",
    "reload(HPO_helper)\n",
    "from HPO_helper import uniform_int, loguniform_int, tpe_method, get_parameter_space_forHPO\n",
    "import tensorflow_model_for_git\n",
    "reload(tensorflow_model_for_git)\n",
    "from tensorflow_model_for_git import Tensorflow_model\n",
    "\n",
    "import matplotlib.pyplot as plt\n",
    "import seaborn as sns\n",
    "%matplotlib inline"
   ]
  },
  {
   "cell_type": "code",
   "execution_count": null,
   "metadata": {
    "scrolled": false
   },
   "outputs": [
    {
     "name": "stderr",
     "output_type": "stream",
     "text": [
      "2018-01-22 15:31:53,431: global_variables_final_for_git: INFO    : Setting up the DNase-seq dataframe and gene expression vector..\n"
     ]
    },
    {
     "name": "stdout",
     "output_type": "stream",
     "text": [
      "> /Users/Dinesh/Dropbox/Github/predicting_gex_with_nn_git/Functions/model_scripts/helper_scripts/global_variables_final_for_git.py(288)get_random_df_tfs_filtdBy_pcc_and_size()\n",
      "-> rand_ints = sorted(random.sample(range(0, df_random.shape[0]), max_tfs_num))\n",
      "(Pdb) df_random.shape\n",
      "(1230, 129)\n",
      "(Pdb) df_random.head(2)\n",
      "                                                  E017_LNG.IMR90_IMR90  E002_ESC.WA7_ESC  E008_ESC.H9_ESC  E001_ESC.I3_ESC  E015_ESC.HUES6_ESC  E014_ESC.HUES48_ESC  E016_ESC.HUES64_ESC  E003_ESC.H1_ESC  E024_ESC.4STAR_ESC  E020_IPSC.20B_iPSC    ...     E122_VAS.HUVEC_ENCODE2012  E123_BLD.K562.CNCR_ENCODE2012  E124_BLD.CD14.MONO_ENCODE2012  E125_BRN.NHA_ENCODE2012  E126_SKIN.NHDFAD_ENCODE2012  E127_SKIN.NHEK_ENCODE2012  E128_LNG.NHLF_ENCODE2012  E129_BONE.OSTEO_ENCODE2012       pcc   abs_pcc\n",
      "geneName loc                  TAD_loc                                                                                                                                                                                                                ...                                                                                                                                                                                                                                                       \n",
      "HES5     chr1:2461184-2462184 chr1:10000-3460000                 165.9            564.87           558.39           696.31              591.85               619.89               603.20           800.29              677.27              657.45    ...                        221.07                         209.43                         211.23                   169.97                       130.51                     318.96                    156.08                      132.76 -0.238872  0.238872\n",
      "PRDM16   chr1:2985241-2986241 chr1:10000-3460000                 204.8            338.99           285.11           307.99              231.21               251.73               388.05           407.33              413.44              233.46    ...                        245.66                         338.67                         459.93                   211.55                       143.35                     110.20                    221.05                      158.12 -0.192606  0.192606\n",
      "\n",
      "[2 rows x 129 columns]\n",
      "(Pdb) sns.kdeplot(df_random.index.get_level_values(\"pcc\")\n",
      "*** SyntaxError: unexpected EOF while parsing (<stdin>, line 1)\n",
      "(Pdb) sns.kdeplot(df_random.index.get_level_values(\"pcc\"))\n",
      "*** NameError: name 'sns' is not defined\n",
      "(Pdb) import seaborn as sns\n",
      "(Pdb) import matplotlib.pyplot as plt\n",
      "(Pdb) %matplotlib inline\n",
      "*** SyntaxError: invalid syntax (<stdin>, line 1)\n",
      "(Pdb) sns.kdeplot(df_random.index.get_level_values(\"pcc\"))\n",
      "*** KeyError: 'Level pcc not found'\n",
      "(Pdb) df_random.index.get_level_values(\"pcc\")\n",
      "*** KeyError: 'Level pcc not found'\n",
      "(Pdb) df_random.head(2)\n",
      "                                                  E017_LNG.IMR90_IMR90  E002_ESC.WA7_ESC  E008_ESC.H9_ESC  E001_ESC.I3_ESC  E015_ESC.HUES6_ESC  E014_ESC.HUES48_ESC  E016_ESC.HUES64_ESC  E003_ESC.H1_ESC  E024_ESC.4STAR_ESC  E020_IPSC.20B_iPSC    ...     E122_VAS.HUVEC_ENCODE2012  E123_BLD.K562.CNCR_ENCODE2012  E124_BLD.CD14.MONO_ENCODE2012  E125_BRN.NHA_ENCODE2012  E126_SKIN.NHDFAD_ENCODE2012  E127_SKIN.NHEK_ENCODE2012  E128_LNG.NHLF_ENCODE2012  E129_BONE.OSTEO_ENCODE2012       pcc   abs_pcc\n",
      "geneName loc                  TAD_loc                                                                                                                                                                                                                ...                                                                                                                                                                                                                                                       \n",
      "HES5     chr1:2461184-2462184 chr1:10000-3460000                 165.9            564.87           558.39           696.31              591.85               619.89               603.20           800.29              677.27              657.45    ...                        221.07                         209.43                         211.23                   169.97                       130.51                     318.96                    156.08                      132.76 -0.238872  0.238872\n",
      "PRDM16   chr1:2985241-2986241 chr1:10000-3460000                 204.8            338.99           285.11           307.99              231.21               251.73               388.05           407.33              413.44              233.46    ...                        245.66                         338.67                         459.93                   211.55                       143.35                     110.20                    221.05                      158.12 -0.192606  0.192606\n",
      "\n",
      "[2 rows x 129 columns]\n",
      "(Pdb) sns.kdeplot(df_random[\"pcc\"])\n",
      "<matplotlib.axes._subplots.AxesSubplot object at 0x11a3b0850>\n",
      "(Pdb) plt.plot()\n",
      "[]\n",
      "(Pdb) plt.plot(df_random[\"pcc])\n",
      "*** SyntaxError: EOL while scanning string literal (<stdin>, line 1)\n",
      "(Pdb) df_random[\"pcc\"]\n",
      "geneName  loc                       TAD_loc                 \n",
      "HES5      chr1:2461184-2462184      chr1:10000-3460000         -0.238872\n",
      "PRDM16    chr1:2985241-2986241      chr1:10000-3460000         -0.192606\n",
      "CHD5      chr1:6239694-6240694      chr1:6140000-6320000       -0.157224\n",
      "ZBTB48    chr1:6639550-6640550      chr1:6320000-7880000       -0.315140\n",
      "CAMTA1    chr1:7764417-7765417      chr1:6320000-7880000       -0.315594\n",
      "TARDBP    chr1:11072178-11073178    chr1:10560000-11160000     -0.344827\n",
      "MTOR      chr1:11322108-11323108    chr1:11160000-11840000     -0.330552\n",
      "PRDM2     chr1:14075375-14076375    chr1:13820000-15840000     -0.303101\n",
      "SPEN      chr1:16173858-16174858    chr1:15840000-16860000     -0.414611\n",
      "ZBTB17    chr1:16302127-16303127    chr1:15840000-16860000     -0.332971\n",
      "ZBTB40    chr1:22777843-22778843    chr1:22380000-23300000     -0.265703\n",
      "E2F2      chr1:23857212-23858212    chr1:23300000-24160000     -0.330541\n",
      "RUNX3     chr1:25291001-25292001    chr1:25020000-25620000     -0.269165\n",
      "ZNF683    chr1:26698785-26699785    chr1:26340000-26800000     -0.167256\n",
      "LIN28A    chr1:26736758-26737758    chr1:26340000-26800000     -0.123821\n",
      "HMGN2     chr1:26798401-26799401    chr1:26340000-26800000     -0.397092\n",
      "ARID1A    chr1:27022023-27023023    chr1:26800000-27300000     -0.233609\n",
      "TAF12     chr1:28969104-28970104    chr1:28600000-29040000      0.241012\n",
      "KHDRBS1   chr1:32478794-32479794    chr1:32080000-32620000     -0.261112\n",
      "ZBTB8B    chr1:32930157-32931157    chr1:32620000-33540000     -0.207277\n",
      "ZNF362    chr1:33721673-33722673    chr1:33540000-33960000     -0.163208\n",
      "SFPQ      chr1:35658246-35659246    chr1:35360000-36900000     -0.359195\n",
      "TFAP2E    chr1:36038470-36039470    chr1:35360000-36900000     -0.391820\n",
      "MTF1      chr1:38324792-38325792    chr1:38260000-39460000      0.182312\n",
      "POU3F1    chr1:38511950-38512950    chr1:38260000-39460000     -0.165330\n",
      "HEYL      chr1:40104848-40105848    chr1:39460000-40200000      0.492763\n",
      "RLF       chr1:40626540-40627540    chr1:40460000-41080000     -0.416179\n",
      "NFYC      chr1:41174494-41175494    chr1:41080000-41580000     -0.344550\n",
      "SCMH1     chr1:41626604-41627604    chr1:41580000-43280000     -0.324833\n",
      "FOXO6     chr1:41827102-41828102    chr1:41580000-43280000     -0.156627\n",
      "HIVEP3    chr1:42501096-42502096    chr1:41580000-43280000     -0.114823\n",
      "FOXJ3     chr1:42800386-42801386    chr1:41580000-43280000     -0.224414\n",
      "YBX1      chr1:43147405-43148405    chr1:41580000-43280000     -0.221436\n",
      "DMAP1     chr1:44678624-44679624    chr1:44560000-45200000     -0.518149\n",
      "DMBX1     chr1:46972167-46973167    chr1:46880000-47640000     -0.147297\n",
      "TAL1      chr1:47697507-47698507    chr1:47640000-47760000     -0.175599\n",
      "DMRTA2    chr1:50888619-50889619    chr1:50880000-51740000     -0.177028\n",
      "ORC1      chr1:52869643-52870643    chr1:52400000-53780000     -0.195131\n",
      "DMRTB1    chr1:53924571-53925571    chr1:53780000-54240000     -0.100249\n",
      "GLIS1     chr1:54199377-54200377    chr1:53780000-54240000      0.493544\n",
      "SSBP3     chr1:54871568-54872568    chr1:54240000-55480000     -0.201197\n",
      "MYSM1     chr1:59165247-59166247    chr1:59020000-60400000     -0.373448\n",
      "JUN       chr1:59249285-59250285    chr1:59020000-60400000     -0.115013\n",
      "NFIA      chr1:61547479-61548479    chr1:61260000-62660000      0.161100\n",
      "FOXD3     chr1:63788229-63789229    chr1:63320000-63980000     -0.162121\n",
      "MIER1     chr1:67390077-67391077    chr1:67300000-67780000     -0.100942\n",
      "LMO4      chr1:87793650-87794650    chr1:87520000-89240000     -0.200004\n",
      "GTF2B     chr1:89356801-89357801    chr1:89240000-89980000     -0.193550\n",
      "ZNF326    chr1:90460153-90461153    chr1:89980000-90520000     -0.296236\n",
      "ZNF644    chr1:91487312-91488312    chr1:90520000-91820000     -0.321173\n",
      "                                                                  ...   \n",
      "TTF1      chr9:135281738-135282738  chr9:133900000-135300000   -0.302812\n",
      "GFI1B     chr9:135853597-135854597  chr9:135300000-136020000   -0.321286\n",
      "LHX3      chr9:139094519-139095519  chr9:137700000-141203431   -0.212838\n",
      "SNAPC4    chr9:139292389-139293389  chr9:137700000-141203431   -0.398997\n",
      "NOTCH1    chr9:139439738-139440738  chr9:137700000-141203431   -0.297410\n",
      "EDF1      chr9:139760288-139761288  chr9:137700000-141203431    0.152505\n",
      "SHOX      chrX:584578-585578        chrX:10000-5900000          0.297152\n",
      "MSL3      chrX:11777234-11778234    chrX:11560000-11840000     -0.265391\n",
      "TCEANC    chrX:13670809-13671809    chrX:12820000-13860000     -0.177404\n",
      "SCML1     chrX:17755068-17756068    chrX:16820000-17780000     -0.102332\n",
      "SCML2     chrX:18372344-18373344    chrX:18320000-19480000     -0.174075\n",
      "YY2       chrX:21873604-21874604    chrX:20480000-21920000     -0.171935\n",
      "ZFX       chrX:24167261-24168261    chrX:23720000-24780000     -0.248281\n",
      "POLA1     chrX:24711449-24712449    chrX:23720000-24780000     -0.463909\n",
      "BCOR      chrX:39956219-39957219    chrX:39060000-40440000     -0.312417\n",
      "ZNF674    chrX:46404392-46405392    chrX:45120000-46460000      0.167756\n",
      "ZNF157    chrX:47229498-47230498    chrX:47000000-48440000     -0.425249\n",
      "ZNF81     chrX:47695800-47696800    chrX:47000000-48440000     -0.265645\n",
      "ZNF182    chrX:47862877-47863877    chrX:47000000-48440000     -0.482673\n",
      "ZNF630    chrX:47930008-47931008    chrX:47000000-48440000     -0.416561\n",
      "GATA1     chrX:48644481-48645481    chrX:48440000-49080000     -0.328008\n",
      "PQBP1     chrX:48755038-48756038    chrX:48440000-49080000     -0.320601\n",
      "FOXP3     chrX:49120788-49121788    chrX:49080000-50900000     -0.311666\n",
      "TSPYL2    chrX:53111041-53112041    chrX:52920000-54660000     -0.278318\n",
      "KDM5C     chrX:53254104-53255104    chrX:52920000-54660000     -0.298447\n",
      "FOXR2     chrX:55649332-55650332    chrX:55280000-56420000     -0.157722\n",
      "KLF8      chrX:56259090-56260090    chrX:55280000-56420000     -0.221981\n",
      "AR        chrX:66763964-66764964    chrX:66060000-67400000      0.400731\n",
      "FOXO4     chrX:70315498-70316498    chrX:70120000-71160000     -0.339250\n",
      "NONO      chrX:70502541-70503541    chrX:70120000-71160000     -0.177182\n",
      "TAF1      chrX:70585588-70586588    chrX:70120000-71160000     -0.273779\n",
      "CITED1    chrX:71526537-71527537    chrX:71460000-71940000     -0.170866\n",
      "CDX4      chrX:72666589-72667589    chrX:71940000-73000000     -0.124752\n",
      "ATRX      chrX:77041255-77042255    chrX:76760000-77400000     -0.394956\n",
      "TAF9B     chrX:77394679-77395679    chrX:76760000-77400000      0.100166\n",
      "TBX22     chrX:79278058-79279058    chrX:78820000-79840000     -0.147720\n",
      "HMGN5     chrX:80456941-80457941    chrX:79980000-80780000     -0.110409\n",
      "POU3F4    chrX:82762768-82763768    chrX:81280000-83140000     -0.192746\n",
      "ZNF711    chrX:84498496-84499496    chrX:84420000-84860000     -0.290547\n",
      "DACH2     chrX:85517470-85518470    chrX:85400000-86140000     -0.147824\n",
      "NKAP      chrX:119077235-119078235  chrX:118600000-119120000   -0.256988\n",
      "RHOXF1    chrX:119249347-119250347  chrX:119120000-119260000   -0.396954\n",
      "ZBTB33    chrX:119384106-119385106  chrX:119260000-119460000   -0.342412\n",
      "SMARCA1   chrX:128656982-128657982  chrX:128600000-129460000    0.113252\n",
      "ELF4      chrX:129243975-129244975  chrX:128600000-129460000    0.101189\n",
      "ZNF75D    chrX:134429465-134430465  chrX:134180000-135000000   -0.313279\n",
      "RBMX      chrX:135962439-135963439  chrX:135680000-136140000   -0.252512\n",
      "ZIC3      chrX:136647785-136648785  chrX:136140000-137160000   -0.155302\n",
      "SOX3      chrX:139586725-139587725  chrX:139160000-139840000   -0.171449\n",
      "MECP2     chrX:153362688-153363688  chrX:153260000-155260560   -0.282018\n",
      "Name: pcc, Length: 1230, dtype: float64\n"
     ]
    }
   ],
   "source": [
    "class Args(object):\n",
    "    def __init__(self):\n",
    "        self.gene = \"MYOD1\"\n",
    "        self.distance = 200\n",
    "        self.use_tad_info = True\n",
    "        self.pcc_lowerlimit_to_filter_dhss = 0.1\n",
    "        self.take_log2_tpm = True\n",
    "        self.filter_tfs_by = \"zscore\" # or \"pcc\"\n",
    "        self.lowerlimit_to_filter_tfs = 4.75\n",
    "        self.take_this_many_top_fts = 15  # all dhss/tfs will already be filtered by pcc(or zscore)\n",
    "        self.init_wts_type = \"corr\"\n",
    "        self.outputDir = \"/Users/Dinesh/Dropbox/Github/predicting_gex_with_nn_git/Output/\"+self.gene.upper()\n",
    "        self.use_random_DHSs = True\n",
    "        self.use_random_TFs = True\n",
    "        self.max_iter = 300\n",
    "\n",
    "start_time = time.time()\n",
    "args = Args()\n",
    "gv = Global_Vars(args, args.outputDir)  # note this takes in new_output_dir as well in .py scripts\n",
    "mp = Model_preparation(gv)"
   ]
  },
  {
   "cell_type": "code",
   "execution_count": null,
   "metadata": {},
   "outputs": [],
   "source": [
    "\n",
    "'''Run HPO on differen train/test splits'''\n",
    "for test_idx in range(0, 1):\n",
    "    # test_idx = 6  # 5 corresponds to ES_deriv group\n",
    "    if (test_idx == 4):  # corresponds to val_group of \"ENCODE2012\"\n",
    "        continue\n",
    "    tm = Tensorflow_model(gv, mp, test_eid_group_index=test_idx)\n",
    "    trials = hyperopt.Trials()\n",
    "\n",
    "    best_params = hyperopt.fmin(tm.train_tensorflow_nn, trials=trials, space=get_parameter_space_forHPO(tm.trainX),\n",
    "                                algo=tpe_method, max_evals=10) \n",
    "\n",
    "    med_pc_test_error, med_pc_val_error = tm.plot_scatter_performance(trials, gv, index=None)\n",
    "    med_val_pcc = trials.results[np.argmin(trials.losses())][\"val_pcc\"].flatten()[-1]\n",
    "    logger.info(\"trainX.shape:{}, testX.shape:{}\".format(tm.trainX.shape, tm.testX.shape))\n",
    "    logger.info(\"Test Group {}: {},\\\n",
    "                Median Test pc Error: {},\\\n",
    "                Median Val (pc error, pcc): ({},{})\\\n",
    "                Best Params: {}\".format(\n",
    "        tm.test_eid_group_index, tm.test_eid_group,\n",
    "        round(med_pc_test_error, 3),\n",
    "        round(med_pc_val_error, 3), round(med_val_pcc, 3),\n",
    "        best_params))\n",
    "    del tm, trials, best_params\n",
    "\n",
    "print(\"Total time taken: {}\".format(time.time() - start_time))"
   ]
  },
  {
   "cell_type": "code",
   "execution_count": null,
   "metadata": {
    "collapsed": true
   },
   "outputs": [],
   "source": []
  },
  {
   "cell_type": "markdown",
   "metadata": {},
   "source": [
    "# DeepLIFT implementation"
   ]
  },
  {
   "cell_type": "markdown",
   "metadata": {},
   "source": [
    "trial_idx = 1\n",
    "plt.plot(trials.results[trial_idx]['train_loss'], color=\"salmon\")\n",
    "plt.plot(trials.results[trial_idx]['val_loss'], color=\"mediumvioletred\")"
   ]
  },
  {
   "cell_type": "code",
   "execution_count": null,
   "metadata": {
    "collapsed": true
   },
   "outputs": [],
   "source": []
  },
  {
   "cell_type": "code",
   "execution_count": null,
   "metadata": {
    "collapsed": true
   },
   "outputs": [],
   "source": []
  },
  {
   "cell_type": "code",
   "execution_count": null,
   "metadata": {
    "collapsed": true
   },
   "outputs": [],
   "source": []
  },
  {
   "cell_type": "code",
   "execution_count": null,
   "metadata": {
    "collapsed": true
   },
   "outputs": [],
   "source": []
  },
  {
   "cell_type": "code",
   "execution_count": null,
   "metadata": {
    "collapsed": true
   },
   "outputs": [],
   "source": []
  },
  {
   "cell_type": "code",
   "execution_count": null,
   "metadata": {
    "collapsed": true
   },
   "outputs": [],
   "source": []
  },
  {
   "cell_type": "code",
   "execution_count": null,
   "metadata": {
    "collapsed": true
   },
   "outputs": [],
   "source": [
    "# - EOF - "
   ]
  }
 ],
 "metadata": {
  "kernelspec": {
   "display_name": "Python 2",
   "language": "python",
   "name": "python2"
  },
  "language_info": {
   "codemirror_mode": {
    "name": "ipython",
    "version": 2
   },
   "file_extension": ".py",
   "mimetype": "text/x-python",
   "name": "python",
   "nbconvert_exporter": "python",
   "pygments_lexer": "ipython2",
   "version": "2.7.13"
  }
 },
 "nbformat": 4,
 "nbformat_minor": 2
}
