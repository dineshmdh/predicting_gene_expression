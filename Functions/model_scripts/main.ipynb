{
 "cells": [
  {
   "cell_type": "markdown",
   "metadata": {},
   "source": [
    "## Hyperparameter search\n",
    "\n",
    "Source: https://github.com/itdxer/neupy/blob/master/notebooks/Hyperparameter%20optimization%20for%20Neural%20Networks.ipynb\n",
    "and http://neupy.com/2016/12/17/hyperparameter_optimization_for_neural_networks.html#id14\n",
    "\n",
    "```python\n",
    "Hyperparams to train:\n",
    "1. lamda\n",
    "2. number of hidden layers\n",
    "3. number of hidden units\n",
    "3. starter learning rate\n",
    "5. use_sigmoid_h1\n",
    "6. use_sigmoid_h2```"
   ]
  },
  {
   "cell_type": "code",
   "execution_count": 1,
   "metadata": {
    "collapsed": true
   },
   "outputs": [],
   "source": [
    "import time\n",
    "import os\n",
    "import sys\n",
    "sys.path = sys.path[1:]\n",
    "sys.path.insert(0, os.path.join(os.getcwd(), \"helper_scripts\"))  # pretending we are running main.py in jupyter\n",
    "\n",
    "from global_variables_final_for_git import Global_Vars\n",
    "from prep_for_model_for_git import Model_preparation\n",
    "\n",
    "import hyperopt\n",
    "from hyperopt import fmin\n",
    "import HPO_helper\n",
    "reload(HPO_helper)\n",
    "from HPO_helper import uniform_int, loguniform_int, tpe_method, get_parameter_space_forHPO\n",
    "import tensorflow_model_for_git\n",
    "reload(tensorflow_model_for_git)\n",
    "from tensorflow_model_for_git import Tensorflow_model\n",
    "\n",
    "import matplotlib.pyplot as plt\n",
    "import seaborn as sns\n",
    "%matplotlib inline"
   ]
  },
  {
   "cell_type": "code",
   "execution_count": 2,
   "metadata": {},
   "outputs": [
    {
     "name": "stderr",
     "output_type": "stream",
     "text": [
      "2018-01-22 10:33:50,321: global_variables_final_for_git: INFO    : Setting up the DNase-seq dataframe and gene expression vector..\n",
      "2018-01-22 10:34:00,733: global_variables_final_for_git: INFO    : Done. Setting up the training and testing split..\n",
      "2018-01-22 10:34:00,741: prep_for_model_for_git: INFO    : Preparing the dataframe for train/test splits..\n"
     ]
    }
   ],
   "source": [
    "class Args(object):\n",
    "    def __init__(self):\n",
    "        self.gene = \"NANOG\"\n",
    "        self.distance = 200\n",
    "        self.use_tad_info = True\n",
    "        self.pcc_lowerlimit_to_filter_dhss = 0.25\n",
    "        self.take_log2_tpm = True\n",
    "        self.filter_tfs_by = \"zscore\" # or \"pcc\"\n",
    "        self.lowerlimit_to_filter_tfs = 4.75\n",
    "        self.take_this_many_top_fts = 15  # all dhss/tfs will already be filtered by pcc(or zscore)\n",
    "        self.init_wts_type = \"corr\"\n",
    "        self.outputDir = \"/Users/Dinesh/Dropbox/Github/predicting_gex_with_nn_git/Output/\"+self.gene.upper()\n",
    "        self.use_random_DHSs = True\n",
    "        self.use_random_TFs = True\n",
    "        self.max_iter = 300\n",
    "\n",
    "start_time = time.time()\n",
    "args = Args()\n",
    "gv = Global_Vars(args, args.outputDir)  # note this takes in new_output_dir as well in .py scripts\n",
    "mp = Model_preparation(gv)"
   ]
  },
  {
   "cell_type": "code",
   "execution_count": 3,
   "metadata": {
    "scrolled": false
   },
   "outputs": [
    {
     "name": "stdout",
     "output_type": "stream",
     "text": [
      "lamda:0.3, layer_sizes:[10]\n",
      "lamda:0.03, layer_sizes:[18]\n",
      "lamda:0.03, layer_sizes:[14]\n",
      "lamda:0.03, layer_sizes:[13, 12]\n",
      "lamda:3e-05, layer_sizes:[16]\n",
      "lamda:3e-07, layer_sizes:[19, 6]\n",
      "lamda:0.0003, layer_sizes:[19]\n",
      "lamda:3e-07, layer_sizes:[19]\n",
      "lamda:3e-05, layer_sizes:[9, 12]\n",
      "lamda:0.3, layer_sizes:[9]\n"
     ]
    },
    {
     "ename": "NameError",
     "evalue": "name 'np' is not defined",
     "output_type": "error",
     "traceback": [
      "\u001b[0;31m---------------------------------------------------------------------------\u001b[0m",
      "\u001b[0;31mNameError\u001b[0m                                 Traceback (most recent call last)",
      "\u001b[0;32m<ipython-input-3-3ef119d36b9e>\u001b[0m in \u001b[0;36m<module>\u001b[0;34m()\u001b[0m\n\u001b[1;32m     11\u001b[0m \u001b[0;34m\u001b[0m\u001b[0m\n\u001b[1;32m     12\u001b[0m     \u001b[0mmed_pc_test_error\u001b[0m\u001b[0;34m,\u001b[0m \u001b[0mmed_pc_val_error\u001b[0m \u001b[0;34m=\u001b[0m \u001b[0mtm\u001b[0m\u001b[0;34m.\u001b[0m\u001b[0mplot_scatter_performance\u001b[0m\u001b[0;34m(\u001b[0m\u001b[0mtrials\u001b[0m\u001b[0;34m,\u001b[0m \u001b[0mgv\u001b[0m\u001b[0;34m,\u001b[0m \u001b[0mindex\u001b[0m\u001b[0;34m=\u001b[0m\u001b[0mNone\u001b[0m\u001b[0;34m)\u001b[0m\u001b[0;34m\u001b[0m\u001b[0m\n\u001b[0;32m---> 13\u001b[0;31m     \u001b[0mmed_val_pcc\u001b[0m \u001b[0;34m=\u001b[0m \u001b[0mtrials\u001b[0m\u001b[0;34m.\u001b[0m\u001b[0mresults\u001b[0m\u001b[0;34m[\u001b[0m\u001b[0mnp\u001b[0m\u001b[0;34m.\u001b[0m\u001b[0margmin\u001b[0m\u001b[0;34m(\u001b[0m\u001b[0mtrials\u001b[0m\u001b[0;34m.\u001b[0m\u001b[0mlosses\u001b[0m\u001b[0;34m(\u001b[0m\u001b[0;34m)\u001b[0m\u001b[0;34m)\u001b[0m\u001b[0;34m]\u001b[0m\u001b[0;34m[\u001b[0m\u001b[0;34m\"val_pcc\"\u001b[0m\u001b[0;34m]\u001b[0m\u001b[0;34m.\u001b[0m\u001b[0mflatten\u001b[0m\u001b[0;34m(\u001b[0m\u001b[0;34m)\u001b[0m\u001b[0;34m[\u001b[0m\u001b[0;34m-\u001b[0m\u001b[0;36m1\u001b[0m\u001b[0;34m]\u001b[0m\u001b[0;34m\u001b[0m\u001b[0m\n\u001b[0m\u001b[1;32m     14\u001b[0m     \u001b[0mlogger\u001b[0m\u001b[0;34m.\u001b[0m\u001b[0minfo\u001b[0m\u001b[0;34m(\u001b[0m\u001b[0;34m\"trainX.shape:{}, testX.shape:{}\"\u001b[0m\u001b[0;34m.\u001b[0m\u001b[0mformat\u001b[0m\u001b[0;34m(\u001b[0m\u001b[0mtm\u001b[0m\u001b[0;34m.\u001b[0m\u001b[0mtrainX\u001b[0m\u001b[0;34m.\u001b[0m\u001b[0mshape\u001b[0m\u001b[0;34m,\u001b[0m \u001b[0mtm\u001b[0m\u001b[0;34m.\u001b[0m\u001b[0mtestX\u001b[0m\u001b[0;34m.\u001b[0m\u001b[0mshape\u001b[0m\u001b[0;34m)\u001b[0m\u001b[0;34m)\u001b[0m\u001b[0;34m\u001b[0m\u001b[0m\n\u001b[1;32m     15\u001b[0m     logger.info(\"Test Group {}: {},                Median Test pc Error: {},                Median Val (pc error, pcc): ({},{})                Best Params: {}\".format(\n",
      "\u001b[0;31mNameError\u001b[0m: name 'np' is not defined"
     ]
    },
    {
     "data": {
      "image/png": "[encoded data removed]",
      "text/plain": [
       "<matplotlib.figure.Figure at 0x11c6aa9d0>"
      ]
     },
     "metadata": {},
     "output_type": "display_data"
    }
   ],
   "source": [
    "'''Run HPO on differen train/test splits'''\n",
    "for test_idx in range(0, 1):\n",
    "    # test_idx = 6  # 5 corresponds to ES_deriv group\n",
    "    if (test_idx == 4):  # corresponds to val_group of \"ENCODE2012\"\n",
    "        continue\n",
    "    tm = Tensorflow_model(gv, mp, test_eid_group_index=test_idx)\n",
    "    trials = hyperopt.Trials()\n",
    "\n",
    "    best_params = hyperopt.fmin(tm.train_tensorflow_nn, trials=trials, space=get_parameter_space_forHPO(tm.trainX),\n",
    "                                algo=tpe_method, max_evals=10) \n",
    "\n",
    "    med_pc_test_error, med_pc_val_error = tm.plot_scatter_performance(trials, gv, index=None)\n",
    "    med_val_pcc = trials.results[np.argmin(trials.losses())][\"val_pcc\"].flatten()[-1]\n",
    "    logger.info(\"trainX.shape:{}, testX.shape:{}\".format(tm.trainX.shape, tm.testX.shape))\n",
    "    logger.info(\"Test Group {}: {},\\\n",
    "                Median Test pc Error: {},\\\n",
    "                Median Val (pc error, pcc): ({},{})\\\n",
    "                Best Params: {}\".format(\n",
    "        tm.test_eid_group_index, tm.test_eid_group,\n",
    "        round(med_pc_test_error, 3),\n",
    "        round(med_pc_val_error, 3), round(med_val_pcc, 3),\n",
    "        best_params))\n",
    "    del tm, trials, best_params\n",
    "\n",
    "print(\"Total time taken: {}\".format(time.time() - start_time))"
   ]
  },
  {
   "cell_type": "code",
   "execution_count": null,
   "metadata": {
    "collapsed": true
   },
   "outputs": [],
   "source": []
  },
  {
   "cell_type": "markdown",
   "metadata": {},
   "source": [
    "# DeepLIFT implementation"
   ]
  },
  {
   "cell_type": "markdown",
   "metadata": {},
   "source": [
    "trial_idx = 1\n",
    "plt.plot(trials.results[trial_idx]['train_loss'], color=\"salmon\")\n",
    "plt.plot(trials.results[trial_idx]['val_loss'], color=\"mediumvioletred\")"
   ]
  },
  {
   "cell_type": "code",
   "execution_count": null,
   "metadata": {
    "collapsed": true
   },
   "outputs": [],
   "source": []
  },
  {
   "cell_type": "code",
   "execution_count": null,
   "metadata": {
    "collapsed": true
   },
   "outputs": [],
   "source": []
  },
  {
   "cell_type": "code",
   "execution_count": null,
   "metadata": {
    "collapsed": true
   },
   "outputs": [],
   "source": []
  },
  {
   "cell_type": "code",
   "execution_count": null,
   "metadata": {
    "collapsed": true
   },
   "outputs": [],
   "source": []
  },
  {
   "cell_type": "code",
   "execution_count": null,
   "metadata": {
    "collapsed": true
   },
   "outputs": [],
   "source": []
  },
  {
   "cell_type": "code",
   "execution_count": null,
   "metadata": {
    "collapsed": true
   },
   "outputs": [],
   "source": []
  },
  {
   "cell_type": "code",
   "execution_count": null,
   "metadata": {
    "collapsed": true
   },
   "outputs": [],
   "source": [
    "# - EOF - "
   ]
  }
 ],
 "metadata": {
  "kernelspec": {
   "display_name": "Python 2",
   "language": "python",
   "name": "python2"
  },
  "language_info": {
   "codemirror_mode": {
    "name": "ipython",
    "version": 2
   },
   "file_extension": ".py",
   "mimetype": "text/x-python",
   "name": "python",
   "nbconvert_exporter": "python",
   "pygments_lexer": "ipython2",
   "version": "2.7.13"
  }
 },
 "nbformat": 4,
 "nbformat_minor": 2
}
