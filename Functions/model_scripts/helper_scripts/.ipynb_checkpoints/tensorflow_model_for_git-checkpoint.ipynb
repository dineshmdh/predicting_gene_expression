{
 "cells": [
  {
   "cell_type": "code",
   "execution_count": 1,
   "metadata": {},
   "outputs": [
    {
     "name": "stderr",
     "output_type": "stream",
     "text": [
      "2018-01-12 22:06:56,485: global_variables_final_for_git: INFO    : Setting up the DNase-seq dataframe and gene expression vector..\n",
      "global_variables_final_for_git.py:143: SettingWithCopyWarning: \n",
      "A value is trying to be set on a copy of a slice from a DataFrame.\n",
      "Try using .loc[row_indexer,col_indexer] = value instead\n",
      "\n",
      "See the caveats in the documentation: http://pandas.pydata.org/pandas-docs/stable/indexing.html#indexing-view-versus-copy\n",
      "  df_roi_dhss[\"pcc\"] = pccs\n",
      "2018-01-12 22:07:06,278: global_variables_final_for_git: INFO    : Done. Setting up the training and testing split..\n",
      "2018-01-12 22:07:06,279: prep_for_model_for_git: INFO    : Preparing the dataframe for train/test splits..\n"
     ]
    }
   ],
   "source": [
    "from global_variables_final_for_git import Global_Vars\n",
    "from prep_for_model_for_git import Model_preparation\n",
    "import pandas as pd\n",
    "import os\n",
    "\n",
    "if __name__==\"__main__\":\n",
    "    class Args(object):\n",
    "        def __init__(self):\n",
    "            self.gene = \"NANOG\"\n",
    "            self.distance = 200\n",
    "            self.use_tad_info = True\n",
    "            self.pcc_lowerlimit_to_filter_dhss = 0.25\n",
    "            self.take_log2_tpm = True\n",
    "            self.filter_tfs_by = \"zscore\" # or \"pcc\"\n",
    "            self.lowerlimit_to_filter_tfs = 4.75\n",
    "            self.take_this_many_top_fts = 15  # all dhss/tfs will already be filtered by pcc(or zscore)\n",
    "            self.init_wts_type = \"corr\"\n",
    "            self.outputDir = \"/Users/Dinesh/Dropbox/Github/predicting_gex_with_nn_git/Output/testing\"\n",
    "            self.use_random_DHSs = False\n",
    "            self.use_random_TFs = False\n",
    "            self.max_iter = 300\n",
    "\n",
    "    args = Args()\n",
    "    gv = Global_Vars(args, args.outputDir)  # note this takes in new_output_dir as well in .py scripts\n",
    "    mp = Model_preparation(gv)"
   ]
  },
  {
   "cell_type": "markdown",
   "metadata": {},
   "source": [
    "## Hyperparameter search\n",
    "\n",
    "Source: https://github.com/itdxer/neupy/blob/master/notebooks/Hyperparameter%20optimization%20for%20Neural%20Networks.ipynb\n",
    "and http://neupy.com/2016/12/17/hyperparameter_optimization_for_neural_networks.html#id14\n",
    "\n",
    "```python\n",
    "Hyperparams to train:\n",
    "1. lambda\n",
    "2. number of hidden layers\n",
    "3. number of hidden units\n",
    "3. starter learning rate\n",
    "5. use_sigmoid_h1\n",
    "6. use_sigmoid_h2```"
   ]
  },
  {
   "cell_type": "code",
   "execution_count": 8,
   "metadata": {
    "collapsed": true
   },
   "outputs": [],
   "source": [
    "from tensorflow_model_for_git import Tensorflow_model"
   ]
  },
  {
   "cell_type": "code",
   "execution_count": 6,
   "metadata": {
    "collapsed": true
   },
   "outputs": [],
   "source": [
    "import hyperopt\n",
    "from functools import partial\n",
    "from hyperopt import fmin, tpe, hp\n",
    "\n",
    "\n",
    "'''Define some basic HPO functions and variables'''\n",
    "def uniform_int(name, lower, upper):\n",
    "    # `quniform` returns: round(uniform(low, high) / q) * q\n",
    "    return hp.quniform(name, lower, upper, q=1)\n",
    "\n",
    "def loguniform_int(name, lower, upper):\n",
    "    # Do not forget to make a logarithm for the lower and upper bounds.\n",
    "    return hp.qloguniform(name, np.log(lower), np.log(upper), q=1)\n",
    "\n",
    "tpe = partial(\n",
    "    hyperopt.tpe.suggest,\n",
    "    n_EI_candidates=30,     # Sample 1000 candidate and select candidate that has highest Expected Improvement (EI)\n",
    "    gamma=0.2,     # Use 20% of best observations to estimate next set of parameters\n",
    "    n_startup_jobs=6,     # First 20 trials are going to be random\n",
    ")\n",
    "\n",
    "def get_parameter_space_forHPO(trainX):\n",
    "    h1_lower = int(0.33 * trainX.shape[1])\n",
    "    h1_upper = int(0.66 * trainX.shape[1])\n",
    "    parameter_space = {\n",
    "        'layers': hp.choice('layers', [{\n",
    "            'n_layers': 1,\n",
    "            'n_units_layer': [\n",
    "                uniform_int('n_units_layer_11', h1_lower, h1_upper),\n",
    "            ],\n",
    "        }, {\n",
    "            'n_layers': 2,\n",
    "            'n_units_layer': [\n",
    "                uniform_int('n_units_layer_21', h1_lower, h1_upper),\n",
    "                uniform_int('n_units_layer_22', int(0.66 * h1_lower), int(0.66 * h1_upper)),\n",
    "            ],\n",
    "        }]),\n",
    "        'lamda': 5*10**(-1 * uniform_int(\"lamda\", 1, 7))\n",
    "    }\n",
    "    return parameter_space"
   ]
  },
  {
   "cell_type": "code",
   "execution_count": 7,
   "metadata": {},
   "outputs": [
    {
     "name": "stdout",
     "output_type": "stream",
     "text": [
      "lamda:0.0005, layer_sizes:[10]\n",
      "lamda:5e-05, layer_sizes:[10]\n",
      "lamda:5e-05, layer_sizes:[18, 9]\n",
      "lamda:0.05, layer_sizes:[11, 10]\n",
      "lamda:0.005, layer_sizes:[15]\n",
      "lamda:5e-06, layer_sizes:[12]\n",
      "lamda:0.5, layer_sizes:[19]\n",
      "lamda:0.05, layer_sizes:[17]\n",
      "lamda:0.5, layer_sizes:[19]\n",
      "lamda:5e-07, layer_sizes:[19, 6]\n"
     ]
    },
    {
     "name": "stderr",
     "output_type": "stream",
     "text": [
      "2018-01-12 22:10:30,796: __main__    : INFO    : Test Group 1:Digestive, Median Test Percentage Error: 0.12, Best Params: {'layers': 0, 'lamda': 2.0, 'n_units_layer_11': 17.0}\n",
      "2018-01-12 22:10:30,796: __main__    : INFO    : Test Group 1:Digestive, Median Test Percentage Error: 0.12, Best Params: {'layers': 0, 'lamda': 2.0, 'n_units_layer_11': 17.0}\n"
     ]
    },
    {
     "data": {
      "image/png": "[encoded data removed]",
      "text/plain": [
       "<matplotlib.figure.Figure at 0x1240ce410>"
      ]
     },
     "metadata": {},
     "output_type": "display_data"
    }
   ],
   "source": [
    "'''Run HPO on differen train/test splits'''\n",
    "# for test_idx in range(0, 19):\n",
    "test_idx = 3\n",
    "\n",
    "tm = Tensorflow_model(gv, mp, test_eid_group_index=test_idx)\n",
    "trials = hyperopt.Trials()\n",
    "\n",
    "best_params = hyperopt.fmin(\n",
    "    tm.train_tensorflow_nn,\n",
    "    trials=trials,\n",
    "    space=get_parameter_space_forHPO(tm.trainX),\n",
    "    algo=tpe,     # Set up TPE for hyperparameter optimization\n",
    "    max_evals=10,     # Maximum number of iterations. Basically it trains at most 200 networks before choose the best one.\n",
    ")\n",
    "\n",
    "med_pc_test_error = tm.plot_scatter_performance(trials, gv, index=None)\n",
    "tm.logger.info(\"Test Group {}:{}, Median Test Percentage Error: {}, Best Params: {}\".format(1, tm.test_eid_group, 0.12, best_params))\n",
    "\n",
    "# if (test_idx == 1): \n",
    "#     break\n",
    "\n",
    "#del tm, trials"
   ]
  },
  {
   "cell_type": "code",
   "execution_count": null,
   "metadata": {
    "collapsed": true
   },
   "outputs": [],
   "source": [
    "# - EOF - "
   ]
  },
  {
   "cell_type": "code",
   "execution_count": null,
   "metadata": {
    "collapsed": true
   },
   "outputs": [],
   "source": []
  }
 ],
 "metadata": {
  "kernelspec": {
   "display_name": "Python 2",
   "language": "python",
   "name": "python2"
  },
  "language_info": {
   "codemirror_mode": {
    "name": "ipython",
    "version": 2
   },
   "file_extension": ".py",
   "mimetype": "text/x-python",
   "name": "python",
   "nbconvert_exporter": "python",
   "pygments_lexer": "ipython2",
   "version": "2.7.13"
  }
 },
 "nbformat": 4,
 "nbformat_minor": 2
}
