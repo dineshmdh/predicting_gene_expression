{
 "cells": [
  {
   "cell_type": "code",
   "execution_count": null,
   "metadata": {
    "collapsed": true
   },
   "outputs": [],
   "source": [
    "from global_variables_final_for_git import Global_Vars\n",
    "from prep_for_model_for_git import Model_preparation\n",
    "\n",
    "if __name__==\"__main__\":\n",
    "    class Args(object):\n",
    "        def __init__(self):\n",
    "            self.gene = \"MYOD1\"\n",
    "            self.distance = 150\n",
    "            self.use_tad_info = True\n",
    "            self.pcc_lowerlimit_to_filter_dhss = 0.2\n",
    "            self.take_log2_tpm = True\n",
    "            self.filter_tfs_by = \"zscore\" # or \"pcc\"\n",
    "            self.lowerlimit_to_filter_tfs = 4.5 \n",
    "            self.take_this_many_top_fts = 20  # all dhss/tfs will already be filtered by pcc(or zscore)\n",
    "            self.init_wts_type = \"corr\"\n",
    "            self.outputDir = \"/Users/Dinesh/Dropbox/Github/predicting_gex_with_nn_git/Output\"\n",
    "            self.use_random_DHSs = False\n",
    "            self.use_random_TFs = False\n",
    "            self.max_iter = 300\n",
    "\n",
    "    args = Args()\n",
    "    gv = Global_Vars(args)\n",
    "    mp = Model_preparation(gv)"
   ]
  },
  {
   "cell_type": "code",
   "execution_count": 21,
   "metadata": {
    "collapsed": true
   },
   "outputs": [],
   "source": [
    "from functools import partial\n",
    "import tensorflow as tf\n",
    "import numpy as np\n",
    "import matplotlib.pyplot as plt\n",
    "import seaborn as sns\n",
    "%matplotlib inline\n",
    "\n",
    "import hyperopt\n",
    "from hyperopt import fmin, tpe, hp, STATUS_OK\n",
    "\n",
    "class Tensorflow_model(object):\n",
    "    def __init__(self, mp):\n",
    "        # self.trainX = np.array(mp.train_dhss.transpose())\n",
    "        # self.testX = np.array(mp.test_dhss.transpose())\n",
    "        self.trainX = np.array(mp.train_joint.transpose())\n",
    "        self.testX = np.array(mp.test_joint.transpose())\n",
    "\n",
    "        self.trainY = np.array(mp.train_goi.tolist())\n",
    "        self.trainY = self.trainY.reshape(self.trainY.shape[0], -1)\n",
    "        self.testY = np.array(mp.test_goi.tolist())\n",
    "        self.testY = self.testY.reshape(self.testY.shape[0], -1)\n",
    "        # print(self.trainX.shape, self.trainY.shape, self.testX.shape, self.testY.shape)\n",
    "    \n",
    "    def init_nn_updates(self):\n",
    "        nn_updates = {}\n",
    "        nn_updates[\"train_loss\"] = []  # loss == cost == rmse\n",
    "        nn_updates[\"train_pcc\"] = []\n",
    "        nn_updates[\"test_loss\"] = []\n",
    "        nn_updates[\"test_pcc\"] = []\n",
    "        nn_updates[\"learning_rate\"] = []\n",
    "        return nn_updates\n",
    "\n",
    "    def get_performance_updates(self, sess, loss, pcc, train_data, test_data, nn_updates):\n",
    "        '''Note: loss == rmse == cost (below)'''\n",
    "        # success in train?\n",
    "        l, p = sess.run([loss, pcc], feed_dict=train_data)\n",
    "        nn_updates[\"train_loss\"].append(l)\n",
    "        nn_updates[\"train_pcc\"].append(p)\n",
    "        # success in test?\n",
    "        l_, p_ = sess.run([loss, pcc], feed_dict=test_data)\n",
    "        nn_updates[\"test_loss\"].append(l_)\n",
    "        nn_updates[\"test_pcc\"].append(p_)\n",
    "\n",
    "        return nn_updates\n",
    "\n",
    "    def train_tensorflow_nn(self, parameters):\n",
    "        '''Arugments:\n",
    "        - All input arguments with \"_\" are real arrays to feed in as data.\n",
    "        - lamda: regularization parameter\n",
    "        - starter_learning_rate: Initial learning rate for the learning rate decay computation below\n",
    "        - decay_at_step: learning rate is updated after this many training steps (Easier to think this way)\n",
    "        '''\n",
    "        \n",
    "        layer_sizes = [int(n) for n in parameters['layers']['n_units_layer']]\n",
    "        if (len(layer_sizes) == 1):\n",
    "            wts = self.get_random_wts(layer_sizes, use_h2=False)\n",
    "        elif (len(layer_sizes) == 2):\n",
    "            wts = self.get_random_wts(layer_sizes, use_h2=True)\n",
    "        else:\n",
    "            raise Exception()\n",
    "        lamda =  parameters['lamda']\n",
    "        print(\"lamda:{}, layer_sizes:{}\".format(lamda, layer_sizes))\n",
    "        max_iter=500\n",
    "        pkeep_train=0.7\n",
    "        starter_learning_rate=0.7\n",
    "        decay_at_step=30\n",
    "        use_sigmoid_h1=True\n",
    "        use_sigmoid_h2=True\n",
    "        use_sigmoid_yhat=False\n",
    "        \n",
    "        # ------ Variables and placeholders ------\n",
    "        nn_updates = self.init_nn_updates()\n",
    "        X = tf.placeholder(tf.float32, shape=[None, wts[1].shape[0]], name=\"X\")\n",
    "        Y = tf.placeholder(tf.float32, [None, 1], name=\"Y\")  # true Ys\n",
    "        pkeep = tf.placeholder(tf.float32, name=\"pkeep\")\n",
    "\n",
    "        W1 = tf.Variable(tf.cast(wts[1], tf.float32), name=\"W1\")\n",
    "        b1 = tf.Variable(tf.zeros([wts[1].shape[1]]), name=\"H1_bn_offset\")  # bn == batch normalization\n",
    "        g1 = tf.Variable(tf.ones([wts[1].shape[1]]), name=\"H1_bn_scale\")\n",
    "        W2 = tf.Variable(tf.cast(wts[2], tf.float32), name=\"W2\")\n",
    "        W3 = None\n",
    "        b2 = None\n",
    "        g2 = None\n",
    "        if not (wts[3] is None):\n",
    "            W3 = tf.Variable(tf.cast(wts[3], tf.float32), name=\"W3\")\n",
    "            b2 = tf.Variable(tf.zeros([wts[2].shape[1]]), name=\"H2_bn_offset\")\n",
    "            g2 = tf.Variable(tf.zeros([wts[2].shape[1]]), name=\"H2_bn_scale\")\n",
    "\n",
    "        Yhat, loss = self.tf_model(X, Y, W1, W2, W3, b1, g1, b2, g2, pkeep, lamda)  # loss == rmse\n",
    "\n",
    "        # ------ train parameters -----\n",
    "        global_step = tf.Variable(0, trainable=False, name=\"global_step\")  # this is like a counter when passed to minimize() function\n",
    "        learning_rate = tf.train.exponential_decay(starter_learning_rate, global_step,\n",
    "                                                   decay_steps=decay_at_step, decay_rate=0.96, staircase=True)\n",
    "        train_step = tf.train.AdamOptimizer(learning_rate).minimize(loss, global_step=global_step)\n",
    "\n",
    "        # ------ performance metric (besides the loss or rmse) -----\n",
    "        pcc = tf.contrib.metrics.streaming_pearson_correlation(Yhat, Y, name=\"pcc\")\n",
    "\n",
    "        # ------ start training ------\n",
    "        with tf.Session() as sess:\n",
    "            init = tf.group(tf.global_variables_initializer(), tf.local_variables_initializer())\n",
    "            sess.run(init)\n",
    "\n",
    "            for i in range(max_iter):\n",
    "\n",
    "                train_data = {X: self.trainX, Y: self.trainY, pkeep: pkeep_train}\n",
    "                sess.run(train_step, feed_dict=train_data)\n",
    "                nn_updates[\"learning_rate\"].append(learning_rate.eval())  # to be used with Adam opt.\n",
    "\n",
    "                if (i % 10 == 0):\n",
    "                    test_data = {X: self.testX, Y: self.testY, pkeep: 1}\n",
    "                    nn_updates = self.get_performance_updates(sess, loss, pcc, train_data, test_data, nn_updates)\n",
    "\n",
    "            # Now predict the performance, and update the output dict\n",
    "            nn_updates[\"yhat_train\"] = sess.run(Yhat, feed_dict={X: self.trainX, Y: self.trainY, pkeep: 1})  # model prediction on the training set\n",
    "            nn_updates[\"yhat_test\"] = sess.run(Yhat, feed_dict={X: self.testX, Y: self.testY, pkeep: 1})\n",
    "            if (np.isnan(nn_updates[\"yhat_test\"]).any()):\n",
    "                print(\"print logger warning that yhat_test has a nan\")\n",
    "            nn_updates[\"W1\"] = W1.eval()\n",
    "            nn_updates[\"W2\"] = W2.eval()\n",
    "            nn_updates[\"b1\"] = b1.eval()\n",
    "            nn_updates[\"g1\"] = g1.eval()\n",
    "            if not (wts[3] is None):\n",
    "                nn_updates[\"W3\"] = W3.eval()\n",
    "                nn_updates[\"b2\"] = b2.eval()\n",
    "                nn_updates[\"g2\"] = g2.eval()\n",
    "            nn_updates[\"loss\"] = nn_updates[\"test_loss\"][-1]\n",
    "            nn_updates[\"status\"] = STATUS_OK\n",
    "        return nn_updates\n",
    "\n",
    "    def tf_model(self, X, Y, W1, W2, W3, b1, g1, b2, g2, pkeep, lamda, \n",
    "                 use_sigmoid_h1=True, use_sigmoid_h2=True, use_sigmoid_yhat=False):\n",
    "\n",
    "        # -------- the core model ---------\n",
    "        H1 = tf.matmul(X, W1, name=\"h1\")\n",
    "        H1_mean, H1_var = tf.nn.moments(H1, axes=[0], keep_dims=True, name=\"h1_moments\")\n",
    "        H1_bn = tf.nn.batch_normalization(H1, H1_mean, H1_var, offset=b1, scale=g1,\n",
    "                                          variance_epsilon=0.000001, name=\"h1_bn\")  # perform batch normalization\n",
    "        if (use_sigmoid_h1):\n",
    "            H1_bnt = tf.nn.sigmoid(H1_bn, name=\"h1_bn_sigmoid\")\n",
    "        else:\n",
    "            H1_bnt = tf.nn.relu(H1_bn, name=\"h1_bn_relu\")\n",
    "        H1_bnd = tf.nn.dropout(H1_bnt, pkeep, name=\"h1_after_bn_transformation_and_dropout\")\n",
    "\n",
    "        if not (W3 is None):\n",
    "            H2 = tf.matmul(H1_bnd, W2, name=\"h2\")\n",
    "            H2_mean, H2_var = tf.nn.moments(H2, axes=[0], keep_dims=True, name=\"h2_moments\")\n",
    "            H2_bn = tf.nn.batch_normalization(H2, H2_mean, H2_var, offset=b2, scale=g2,\n",
    "                                              variance_epsilon=0.000001, name=\"h2_bn\")\n",
    "            if (use_sigmoid_h2):\n",
    "                H2_bnt = tf.nn.sigmoid(H2_bn, name=\"h2_bn_sigmoid\")\n",
    "            else:\n",
    "                H2_bnt = tf.nn.sigmoid(H2_bn, name=\"h2_bn_relu\")\n",
    "            H2_bnd = tf.nn.dropout(H2_bnt, pkeep, name=\"h2_after_bns_transformation_and_dropout\")\n",
    "            if (use_sigmoid_yhat):\n",
    "                Yhat = tf.nn.sigmoid(tf.matmul(H2_bnd, W3), name=\"Yhat_sigmoid_W3_present\")\n",
    "            else:\n",
    "                Yhat = tf.nn.sigmoid(tf.matmul(H2_bnd, W3), name=\"Yhat_relu_W3_present\")\n",
    "            regularizer = tf.add(tf.add(tf.nn.l2_loss(W1), tf.nn.l2_loss(W2)), tf.nn.l2_loss(W3), name=\"regularizer\")\n",
    "        else: # no W3, W2.shape[1]==1\n",
    "            if (use_sigmoid_yhat):\n",
    "                Yhat = tf.nn.sigmoid(tf.matmul(H1_bnd, W2), name=\"Yhat_sigmoid_noW3\")\n",
    "            else:\n",
    "                Yhat = tf.nn.relu(tf.matmul(H1_bnd, W2), name=\"Yhat_relu_noW3\")\n",
    "            regularizer = tf.add(tf.nn.l2_loss(W1), tf.nn.l2_loss(W2), name=\"regularizer\")\n",
    "\n",
    "        loss = tf.sqrt(tf.reduce_mean(tf.squared_difference(Yhat, Y)), name=\"loss\")  # cost function to minimize\n",
    "        loss = loss + lamda * regularizer\n",
    "\n",
    "        return Yhat, loss\n",
    "    \n",
    "    def get_random_wts(self, layer_sizes, use_h2=False):\n",
    "        # layer_sizes is either a 1-d or 2-d array\n",
    "        i = self.trainX.shape[1]\n",
    "        o = 1\n",
    "\n",
    "        wts = {}\n",
    "        if (use_h2 == False):\n",
    "            h1 = layer_sizes[0]\n",
    "            wts[1] = np.random.randn(i, h1)\n",
    "            wts[2] = np.random.randn(h1,o)\n",
    "            wts[3] = None\n",
    "        else:\n",
    "            h1, h2 = layer_sizes\n",
    "            wts[1] = np.random.randn(i, h1)\n",
    "            wts[2] = np.random.randn(h1,h2)\n",
    "            wts[3] = np.random.randn(h2,o)\n",
    "        return wts\n",
    "\n",
    "    def get_percentage_error(self, nn_updates):\n",
    "        pes = [] # pes = percentage errors\n",
    "        y_minus_yhat = abs(self.testY.flatten() - nn_updates[\"yhat_test\"].flatten())\n",
    "        for a,b in zip(y_minus_yhat, self.testY.flatten()):\n",
    "            pes.append(a/b)\n",
    "        return pes\n",
    "\n",
    "    def plot_scatter_performance(self, gv, nn_updates):\n",
    "        plt.figure(figsize=(5,5))\n",
    "        sns.regplot(self.trainY.flatten(), nn_updates[\"yhat_train\"].flatten(), robust=False, fit_reg=False, scatter_kws={'alpha': 0.45}, color=\"salmon\")\n",
    "        sns.regplot(self.testY.flatten(), nn_updates[\"yhat_test\"].flatten(), robust=False, fit_reg=False, color=\"steelblue\")\n",
    "        plt.xlim((0,1.1))\n",
    "        plt.ylim((0,1.1))\n",
    "        plt.plot([[0,0], [1,1]], \"--\")\n",
    "        plt.xlabel(\"Real RPKM signal normalized\")\n",
    "        plt.ylabel(\"Predicted RPKM signal\")\n",
    "        plt.title(\"{}, Median per. error: {}\".format(gv.gene_ofInterest, round(np.median(self.get_percentage_error(nn_updates)),2)))\n"
   ]
  },
  {
   "cell_type": "code",
   "execution_count": 22,
   "metadata": {
    "collapsed": true
   },
   "outputs": [],
   "source": [
    "tm = Tensorflow_model(mp)"
   ]
  },
  {
   "cell_type": "markdown",
   "metadata": {},
   "source": [
    "nn_updates = tm.train_tensorflow_nn(parameters)\n",
    "tm.plot_scatter_performance(gv, nn_updates)"
   ]
  },
  {
   "cell_type": "markdown",
   "metadata": {},
   "source": [
    "## Hyperparameter search\n",
    "\n",
    "Source: https://github.com/itdxer/neupy/blob/master/notebooks/Hyperparameter%20optimization%20for%20Neural%20Networks.ipynb\n",
    "and http://neupy.com/2016/12/17/hyperparameter_optimization_for_neural_networks.html#id14\n",
    "\n",
    "```python\n",
    "Hyperparams to train:\n",
    "1. lambda\n",
    "2. number of hidden layers\n",
    "3. number of hidden units\n",
    "3. starter learning rate\n",
    "5. use_sigmoid_h1\n",
    "6. use_sigmoid_h2```"
   ]
  },
  {
   "cell_type": "code",
   "execution_count": 23,
   "metadata": {
    "collapsed": true
   },
   "outputs": [],
   "source": [
    "trials = hyperopt.Trials()\n",
    "\n",
    "def uniform_int(name, lower, upper):\n",
    "    # `quniform` returns: round(uniform(low, high) / q) * q\n",
    "    return hp.quniform(name, lower, upper, q=1)\n",
    "\n",
    "def loguniform_int(name, lower, upper):\n",
    "    # Do not forget to make a logarithm for the lower and upper bounds.\n",
    "    return hp.qloguniform(name, np.log(lower), np.log(upper), q=1)\n",
    "\n",
    "parameter_space = {\n",
    "    'layers': hp.choice('layers', [{\n",
    "        'n_layers': 1,\n",
    "        'n_units_layer': [\n",
    "            uniform_int('n_units_layer_11', 6, 12),\n",
    "        ],\n",
    "    }, {\n",
    "        'n_layers': 2,\n",
    "        'n_units_layer': [\n",
    "            uniform_int('n_units_layer_21', 6, 12),\n",
    "            uniform_int('n_units_layer_22', 2, 4),\n",
    "        ],\n",
    "    }]),\n",
    "    'lamda': 5*10**(-1 * uniform_int(\"lamda\", 1, 7))\n",
    "}"
   ]
  },
  {
   "cell_type": "code",
   "execution_count": 24,
   "metadata": {},
   "outputs": [
    {
     "name": "stdout",
     "output_type": "stream",
     "text": [
      "lamda:0.005, layer_sizes:[8, 3]\n",
      "lamda:0.05, layer_sizes:[9]\n",
      "lamda:5e-06, layer_sizes:[7, 3]\n",
      "lamda:5e-06, layer_sizes:[11]\n",
      "lamda:5e-06, layer_sizes:[11, 4]\n",
      "lamda:0.5, layer_sizes:[8, 4]\n",
      "lamda:5e-05, layer_sizes:[8, 3]\n",
      "lamda:0.05, layer_sizes:[11]\n",
      "lamda:5e-07, layer_sizes:[12, 4]\n",
      "lamda:0.0005, layer_sizes:[12, 2]\n",
      "lamda:5e-07, layer_sizes:[10, 4]\n",
      "lamda:5e-05, layer_sizes:[10, 2]\n"
     ]
    },
    {
     "data": {
      "text/plain": [
       "{'lamda': 6.0, 'layers': 1, 'n_units_layer_21': 11.0, 'n_units_layer_22': 4.0}"
      ]
     },
     "execution_count": 24,
     "metadata": {},
     "output_type": "execute_result"
    }
   ],
   "source": [
    "\n",
    "tpe = partial(\n",
    "    hyperopt.tpe.suggest,\n",
    "    n_EI_candidates=30,     # Sample 1000 candidate and select candidate that has highest Expected Improvement (EI)\n",
    "    gamma=0.2,     # Use 20% of best observations to estimate next set of parameters\n",
    "    n_startup_jobs=8,     # First 20 trials are going to be random\n",
    ")\n",
    "\n",
    "hyperopt.fmin(\n",
    "    tm.train_tensorflow_nn,\n",
    "    trials=trials,\n",
    "    space=parameter_space,\n",
    "    algo=tpe,     # Set up TPE for hyperparameter optimization\n",
    "    max_evals=12,     # Maximum number of iterations. Basically it trains at most 200 networks before choose the best one.\n",
    ")"
   ]
  },
  {
   "cell_type": "code",
   "execution_count": 25,
   "metadata": {},
   "outputs": [
    {
     "data": {
      "text/plain": [
       "[<matplotlib.lines.Line2D at 0x176977d90>]"
      ]
     },
     "execution_count": 25,
     "metadata": {},
     "output_type": "execute_result"
    },
    {
     "data": {
      "image/png": "[encoded data removed]",
      "text/plain": [
       "<matplotlib.figure.Figure at 0x141bf1dd0>"
      ]
     },
     "metadata": {},
     "output_type": "display_data"
    }
   ],
   "source": [
    "plt.plot(trials.losses())"
   ]
  },
  {
   "cell_type": "code",
   "execution_count": 26,
   "metadata": {},
   "outputs": [
    {
     "data": {
      "text/plain": [
       "[0.18596215546131134,\n",
       " 0.1648014485836029,\n",
       " 0.14892204105854034,\n",
       " 0.7526082396507263,\n",
       " 0.14616915583610535,\n",
       " 0.21570512652397156,\n",
       " 0.15083681046962738,\n",
       " 0.24485768377780914,\n",
       " 0.15975365042686462,\n",
       " 0.1727277934551239,\n",
       " 0.15506695210933685,\n",
       " 0.15701164305210114]"
      ]
     },
     "execution_count": 26,
     "metadata": {},
     "output_type": "execute_result"
    }
   ],
   "source": [
    "trials.losses()"
   ]
  },
  {
   "cell_type": "code",
   "execution_count": 27,
   "metadata": {},
   "outputs": [
    {
     "data": {
      "text/plain": [
       "E100_MUS.PSOAS_Muscle       0.644889\n",
       "E108_MUS.SKLT.F_Muscle      0.861278\n",
       "E107_MUS.SKLT.M_Muscle      0.773722\n",
       "E089_MUS.TRNK.FET_Muscle    0.730464\n",
       "E090_MUS.LEG.FET_Muscle     0.735406\n",
       "Name: (MYOD1, chr11:17740609-17741609, chr11:17240000-18100000), dtype: float64"
      ]
     },
     "execution_count": 27,
     "metadata": {},
     "output_type": "execute_result"
    }
   ],
   "source": [
    "mp.test_goi"
   ]
  },
  {
   "cell_type": "code",
   "execution_count": 35,
   "metadata": {},
   "outputs": [
    {
     "data": {
      "text/plain": [
       "array([[ 0.5594036 ],\n",
       "       [ 0.8304888 ],\n",
       "       [ 0.56795955],\n",
       "       [ 0.51342094],\n",
       "       [ 0.56960666]], dtype=float32)"
      ]
     },
     "execution_count": 35,
     "metadata": {},
     "output_type": "execute_result"
    }
   ],
   "source": [
    "trials.results[4][\"yhat_test\"]"
   ]
  },
  {
   "cell_type": "code",
   "execution_count": 37,
   "metadata": {},
   "outputs": [
    {
     "data": {
      "text/plain": [
       "[<matplotlib.lines.Line2D at 0x11860b7d0>,\n",
       " <matplotlib.lines.Line2D at 0x145655850>]"
      ]
     },
     "execution_count": 37,
     "metadata": {},
     "output_type": "execute_result"
    },
    {
     "data": {
      "image/png": "[encoded data removed]",
      "text/plain": [
       "<matplotlib.figure.Figure at 0x11860bed0>"
      ]
     },
     "metadata": {},
     "output_type": "display_data"
    }
   ],
   "source": [
    "sns.regplot(tm.trainY.flatten(), trials.results[4][\"yhat_train\"].flatten(), robust=False, fit_reg=False, scatter_kws={'alpha': 0.45}, color=\"salmon\")\n",
    "sns.regplot(tm.testY.flatten(), trials.results[4][\"yhat_test\"].flatten(), robust=False, fit_reg=False, color=\"steelblue\")\n",
    "plt.xlim((0,1.1))\n",
    "plt.ylim((0,1.1))\n",
    "plt.plot([[0,0], [1,1]], \"--\")"
   ]
  },
  {
   "cell_type": "code",
   "execution_count": null,
   "metadata": {
    "collapsed": true
   },
   "outputs": [],
   "source": []
  }
 ],
 "metadata": {
  "kernelspec": {
   "display_name": "Python 2",
   "language": "python",
   "name": "python2"
  },
  "language_info": {
   "codemirror_mode": {
    "name": "ipython",
    "version": 2
   },
   "file_extension": ".py",
   "mimetype": "text/x-python",
   "name": "python",
   "nbconvert_exporter": "python",
   "pygments_lexer": "ipython2",
   "version": "2.7.13"
  }
 },
 "nbformat": 4,
 "nbformat_minor": 2
}
