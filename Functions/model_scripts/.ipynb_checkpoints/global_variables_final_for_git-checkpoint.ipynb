{
 "cells": [
  {
   "cell_type": "code",
   "execution_count": null,
   "metadata": {},
   "outputs": [],
   "source": [
    "import os, sys\n",
    "sys.path = sys.path[1:]\n",
    "sys.path.insert(0, os.path.join(os.getcwd(), \"helper_scripts\"))\n",
    "from global_variables_final_for_git import Global_Vars"
   ]
  },
  {
   "cell_type": "code",
   "execution_count": null,
   "metadata": {},
   "outputs": [],
   "source": [
    "class Args(object):\n",
    "    def __init__(self):\n",
    "        self.gene = \"NANOG\"\n",
    "        self.distance = 200\n",
    "        self.use_tad_info = True\n",
    "        self.pcc_lowerlimit_to_filter_dhss = 0.8\n",
    "        self.take_log2_tpm = True\n",
    "        self.filter_tfs_by = \"pcc\"  # or \"pcc\"\n",
    "        self.lowerlimit_to_filter_tfs = 0.75\n",
    "        self.take_this_many_top_fts = 15  # all dhss/tfs will already be filtered by pcc(or zscore)\n",
    "        self.init_wts_type = \"corr\"\n",
    "        self.outputDir = \"/Users/Dinesh/Dropbox/Github/predicting_gex_with_nn_git/Output/testing\"\n",
    "        self.use_random_DHSs = True\n",
    "        self.use_random_TFs = True\n",
    "        self.max_iter = 500\n",
    "\n",
    "args = Args()\n",
    "gv = Global_Vars(args, args.outputDir)  # note this takes in new_output_dir as well in .py scripts"
   ]
  },
  {
   "cell_type": "code",
   "execution_count": null,
   "metadata": {},
   "outputs": [],
   "source": [
    "gv.df_dhss"
   ]
  },
  {
   "cell_type": "code",
   "execution_count": null,
   "metadata": {},
   "outputs": [],
   "source": [
    "gv.df_tfs"
   ]
  },
  {
   "cell_type": "code",
   "execution_count": null,
   "metadata": {
    "collapsed": true
   },
   "outputs": [],
   "source": [
    "# - EOF - "
   ]
  }
 ],
 "metadata": {
  "kernelspec": {
   "display_name": "Python 2",
   "language": "python",
   "name": "python2"
  },
  "language_info": {
   "codemirror_mode": {
    "name": "ipython",
    "version": 2
   },
   "file_extension": ".py",
   "mimetype": "text/x-python",
   "name": "python",
   "nbconvert_exporter": "python",
   "pygments_lexer": "ipython2",
   "version": "2.7.13"
  }
 },
 "nbformat": 4,
 "nbformat_minor": 2
}
