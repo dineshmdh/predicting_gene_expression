{
 "cells": [
  {
   "cell_type": "code",
   "execution_count": 1,
   "metadata": {},
   "outputs": [
    {
     "name": "stderr",
     "output_type": "stream",
     "text": [
      "2018-01-09 12:37:08,609: global_variables_final_for_git: INFO    : Setting up the DNase-seq dataframe and gene expression vector..\n",
      "global_variables_final_for_git.py:144: SettingWithCopyWarning: \n",
      "A value is trying to be set on a copy of a slice from a DataFrame.\n",
      "Try using .loc[row_indexer,col_indexer] = value instead\n",
      "\n",
      "See the caveats in the documentation: http://pandas.pydata.org/pandas-docs/stable/indexing.html#indexing-view-versus-copy\n",
      "  df_roi_dhss[\"pcc\"] = pccs\n",
      "2018-01-09 12:37:18,007: global_variables_final_for_git: INFO    : Done. Setting up the training and testing split..\n",
      "2018-01-09 12:37:18,008: prep_for_model_for_git: INFO    : Preparing the train/test dataf..\n"
     ]
    }
   ],
   "source": [
    "from global_variables_final_for_git import Global_Vars\n",
    "from prep_for_model_for_git import Model_preparation\n",
    "\n",
    "class Tensorflow_model(object):\n",
    "    def __init__(self, mp):\n",
    "        pass\n",
    "    \n",
    "if __name__==\"__main__\":\n",
    "    class Args(object):\n",
    "        def __init__(self):\n",
    "            self.gene = \"MYOD1\"\n",
    "            self.distance = 150\n",
    "            self.use_tad_info = True\n",
    "            self.pcc_lowerlimit_to_filter_dhss = 0.2\n",
    "            self.take_log2_tpm = True\n",
    "            self.filter_tfs_by = \"zscore\" # or \"pcc\"\n",
    "            self.lowerlimit_to_filter_tfs = 4.5 \n",
    "            self.take_this_many_top_fts = 20  # all dhss/tfs will already be filtered by pcc(or zscore)\n",
    "            self.init_wts_type = \"corr\"\n",
    "            self.outputDir = \"/Users/Dinesh/Dropbox/Github/predicting_gex_with_nn_git/Output\"\n",
    "            self.use_random_DHSs = False\n",
    "            self.use_random_TFs = False\n",
    "            self.max_iter = 300\n",
    "            \n",
    "    args = Args()\n",
    "    gv = Global_Vars(args)\n",
    "    mp = Model_preparation(gv)"
   ]
  },
  {
   "cell_type": "code",
   "execution_count": 2,
   "metadata": {
    "collapsed": true
   },
   "outputs": [],
   "source": [
    "import tensorflow as tf\n",
    "import matplotlib.pyplot as plt\n",
    "%matplotlib inline\n",
    "import seaborn as sns"
   ]
  },
  {
   "cell_type": "code",
   "execution_count": 3,
   "metadata": {
    "collapsed": true
   },
   "outputs": [],
   "source": [
    "def init_nn_updates():\n",
    "    nn_updates = {}\n",
    "    nn_updates[\"train_loss\"] = []  # loss == cost == rmse\n",
    "    nn_updates[\"train_pcc\"] = []\n",
    "    nn_updates[\"test_loss\"] = []\n",
    "    nn_updates[\"test_pcc\"] = []\n",
    "    nn_updates[\"learning_rate\"] = []\n",
    "    return nn_updates"
   ]
  },
  {
   "cell_type": "code",
   "execution_count": 4,
   "metadata": {
    "collapsed": true
   },
   "outputs": [],
   "source": [
    "def get_performance_updates(sess, loss, pcc, train_data, test_data, nn_updates):\n",
    "    '''Note: loss == rmse == cost (below)'''\n",
    "\n",
    "    # success in train?\n",
    "    l, p = sess.run([loss, pcc], feed_dict=train_data)\n",
    "    nn_updates[\"train_loss\"].append(l)\n",
    "    nn_updates[\"train_pcc\"].append(p)\n",
    "\n",
    "    # success in test?\n",
    "    l_, p_ = sess.run([loss, pcc], feed_dict=test_data)\n",
    "    nn_updates[\"test_loss\"].append(l_)\n",
    "    nn_updates[\"test_pcc\"].append(p_)\n",
    "\n",
    "    return nn_updates"
   ]
  },
  {
   "cell_type": "code",
   "execution_count": 5,
   "metadata": {
    "collapsed": true
   },
   "outputs": [],
   "source": [
    "def train_tensorflow_nn(wts, trainX, trainY, testX, testY,\n",
    "                        max_iter=500, pkeep_train=0.7, lamda=0.0001,\n",
    "                        starter_learning_rate=0.5, decay_at_step=30,\n",
    "                        use_sigmoid_h1=True, use_sigmoid_h2=True, use_sigmoid_yhat=False):\n",
    "    '''Arugments:\n",
    "    - All input arguments with \"_\" are real arrays to feed in as data.\n",
    "    - lamda: regularization parameter\n",
    "    - starter_learning_rate: Initial learning rate for the learning rate decay computation below\n",
    "    - decay_at_step: learning rate is updated after this many training steps (Easier to think this way)\n",
    "    '''\n",
    "    # ------ Variables and placeholders ------\n",
    "    nn_updates = init_nn_updates()\n",
    "    X = tf.placeholder(tf.float32, shape=[None, wts[1].shape[0]], name=\"X\")\n",
    "    Y = tf.placeholder(tf.float32, [None, 1], name=\"Y\")  # true Ys\n",
    "    pkeep = tf.placeholder(tf.float32, name=\"pkeep\")\n",
    "\n",
    "    W1 = tf.Variable(tf.cast(wts[1], tf.float32), name=\"W1\")\n",
    "    b1 = tf.Variable(tf.zeros([wts[1].shape[1]]), name=\"H1_bn_offset\")  # bn == batch normalization\n",
    "    g1 = tf.Variable(tf.ones([wts[1].shape[1]]), name=\"H1_bn_scale\")\n",
    "    W2 = tf.Variable(tf.cast(wts[2], tf.float32), name=\"W2\")\n",
    "    W3 = None\n",
    "    b2 = None\n",
    "    g2 = None\n",
    "    if not (wts[3] is None):\n",
    "        W3 = tf.Variable(tf.cast(wts[3], tf.float32), name=\"W3\")\n",
    "        b2 = tf.Variable(tf.zeros([wts[2].shape[1]]), name=\"H2_bn_offset\")\n",
    "        g2 = tf.Variable(tf.zeros([wts[2].shape[1]]), name=\"H2_bn_scale\")\n",
    "\n",
    "    Yhat, loss = tf_model(X, Y, W1, W2, W3, b1, g1, b2, g2, pkeep, lamda)  # loss == rmse\n",
    "\n",
    "    # ------ train parameters -----\n",
    "    global_step = tf.Variable(0, trainable=False, name=\"global_step\")  # this is like a counter when passed to minimize() function\n",
    "    learning_rate = tf.train.exponential_decay(starter_learning_rate, global_step,\n",
    "                                               decay_steps=decay_at_step, decay_rate=0.96, staircase=True)\n",
    "    train_step = tf.train.AdamOptimizer(learning_rate).minimize(loss, global_step=global_step)\n",
    "\n",
    "    # ------ performance metric (besides the loss or rmse) -----\n",
    "    pcc = tf.contrib.metrics.streaming_pearson_correlation(Yhat, Y, name=\"pcc\")\n",
    "\n",
    "    # ------ start training ------\n",
    "    with tf.Session() as sess:\n",
    "        init = tf.group(tf.global_variables_initializer(), tf.local_variables_initializer())\n",
    "        sess.run(init)\n",
    "\n",
    "        for i in range(max_iter):\n",
    "\n",
    "            train_data = {X: trainX, Y: trainY, pkeep: pkeep_train}\n",
    "            sess.run(train_step, feed_dict=train_data)\n",
    "            nn_updates[\"learning_rate\"].append(learning_rate.eval())  # to be used with Adam opt.\n",
    "\n",
    "            if (i % 10 == 0):\n",
    "                test_data = {X: testX, Y: testY, pkeep: 1}\n",
    "                nn_updates = get_performance_updates(sess, loss, pcc, train_data, test_data, nn_updates)\n",
    "\n",
    "        # Now predict the performance, and get the weights\n",
    "        nn_updates[\"yhat_train\"] = sess.run(Yhat, feed_dict={X: trainX, Y: trainY, pkeep: 1})  # model prediction on the training set\n",
    "        nn_updates[\"yhat_test\"] = sess.run(Yhat, feed_dict={X: testX, Y: testY, pkeep: 1})\n",
    "        if (np.isnan(nn_updates[\"yhat_test\"]).any()):\n",
    "            print(\"print logger warning that yhat_test has a nan\")\n",
    "        nn_updates[\"W1\"] = W1.eval()\n",
    "        nn_updates[\"W2\"] = W2.eval()\n",
    "        if not (wts[3] is None):\n",
    "            nn_updates[\"W3\"] = W3.eval()\n",
    "\n",
    "    return nn_updates"
   ]
  },
  {
   "cell_type": "code",
   "execution_count": 6,
   "metadata": {
    "collapsed": true
   },
   "outputs": [],
   "source": [
    "def tf_model(X, Y, W1, W2, W3, b1, g1, b2, g2, pkeep, lamda, \n",
    "             use_sigmoid_h1=True, use_sigmoid_h2=True, use_sigmoid_yhat=False):\n",
    "    \n",
    "    # -------- the core model ---------\n",
    "    H1 = tf.matmul(X, W1, name=\"h1\")\n",
    "    H1_mean, H1_var = tf.nn.moments(H1, axes=[0], keep_dims=True, name=\"h1_moments\")\n",
    "    H1_bn = tf.nn.batch_normalization(H1, H1_mean, H1_var, offset=b1, scale=g1,\n",
    "                                      variance_epsilon=0.000001, name=\"h1_bn\")  # perform batch normalization\n",
    "    if (use_sigmoid_h1):\n",
    "        H1_bnt = tf.nn.sigmoid(H1_bn, name=\"h1_bn_sigmoid\")\n",
    "    else:\n",
    "        H1_bnt = tf.nn.relu(H1_bn, name=\"h1_bn_relu\")\n",
    "    H1_bnd = tf.nn.dropout(H1_bnt, pkeep, name=\"h1_after_bn_transformation_and_dropout\")\n",
    "    \n",
    "    if not (W3 is None):\n",
    "        H2 = tf.matmul(H1_bnd, W2, name=\"h2\")\n",
    "        H2_mean, H2_var = tf.nn.moments(H2, axes=[0], keep_dims=True, name=\"h2_moments\")\n",
    "        H2_bn = tf.nn.batch_normalization(H2, H2_mean, H2_var, offset=b2, scale=g2,\n",
    "                                          variance_epsilon=0.000001, name=\"h2_bn\")\n",
    "        if (use_sigmoid_h2):\n",
    "            H2_bnt = tf.nn.sigmoid(H2_bn, name=\"h2_bn_sigmoid\")\n",
    "        else:\n",
    "            H2_bnt = tf.nn.sigmoid(H2_bn, name=\"h2_bn_relu\")\n",
    "        H2_bnd = tf.nn.dropout(H2_bnt, pkeep, name=\"h2_after_bns_transformation_and_dropout\")\n",
    "        if (use_sigmoid_yhat):\n",
    "            Yhat = tf.nn.sigmoid(tf.matmul(H2_bnd, W3), name=\"Yhat_sigmoid_W3_present\")\n",
    "        else:\n",
    "            Yhat = tf.nn.sigmoid(tf.matmul(H2_bnd, W3), name=\"Yhat_relu_W3_present\")\n",
    "        regularizer = tf.add(tf.add(tf.nn.l2_loss(W1), tf.nn.l2_loss(W2)), tf.nn.l2_loss(W3), name=\"regularizer\")\n",
    "    else: # no W3, W2.shape[1]==1\n",
    "        if (use_sigmoid_yhat):\n",
    "            Yhat = tf.nn.sigmoid(tf.matmul(H1_bnd, W2), name=\"Yhat_sigmoid_noW3\")\n",
    "        else:\n",
    "            Yhat = tf.nn.relu(tf.matmul(H1_bnd, W2), name=\"Yhat_relu_noW3\")\n",
    "        regularizer = tf.add(tf.nn.l2_loss(W1), tf.nn.l2_loss(W2), name=\"regularizer\")\n",
    "\n",
    "    loss = tf.sqrt(tf.reduce_mean(tf.squared_difference(Yhat, Y)), name=\"loss\")  # cost function to minimize\n",
    "    loss = loss + lamda * regularizer\n",
    "    # loss = tf.reduce_mean((Y - Yhat)**2) + tf.multiply(lamda, tf.add(tf.reduce_sum(tf.square(W1)), tf.reduce_sum(tf.square(W2))))  # this is not working (yields negative loss); default norm is euclidean\n",
    "\n",
    "    return Yhat, loss"
   ]
  },
  {
   "cell_type": "code",
   "execution_count": 7,
   "metadata": {},
   "outputs": [
    {
     "name": "stdout",
     "output_type": "stream",
     "text": [
      "((119, 18), (119, 1), (8, 18), (8, 1))\n"
     ]
    }
   ],
   "source": [
    "import numpy as np\n",
    "# trainX = np.array(mp.train_dhss.transpose())\n",
    "# testX = np.array(mp.test_dhss.transpose())\n",
    "\n",
    "trainX = np.array(mp.train_joint.transpose())\n",
    "testX = np.array(mp.test_joint.transpose())\n",
    "\n",
    "trainY = np.array(mp.train_goi.tolist())\n",
    "trainY = trainY.reshape(trainY.shape[0], -1)\n",
    "testY = np.array(mp.test_goi.tolist())\n",
    "testY = testY.reshape(testY.shape[0], -1)\n",
    "\n",
    "print(trainX.shape, trainY.shape, testX.shape, testY.shape)"
   ]
  },
  {
   "cell_type": "code",
   "execution_count": 8,
   "metadata": {
    "collapsed": true
   },
   "outputs": [],
   "source": [
    "def get_random_wts(use_h2=False, i_frac=0.4, h1_frac=0.4):\n",
    "    i = trainX.shape[1]\n",
    "    h1 = int(i*i_frac)\n",
    "    h2 = int(h1*h1_frac)\n",
    "    o = 1\n",
    "\n",
    "    wts = {}\n",
    "    if (use_h2 == False):\n",
    "        wts[1] = np.random.randn(i, h1)\n",
    "        wts[2] = np.random.randn(h1,o)\n",
    "        wts[3] = None\n",
    "    else:\n",
    "        wts[1] = np.random.randn(i, h1)\n",
    "        wts[2] = np.random.randn(h1,h2)\n",
    "        wts[3] = np.random.randn(h2,o)\n",
    "    print(wts[1].shape, wts[2].shape)\n",
    "    return wts"
   ]
  },
  {
   "cell_type": "code",
   "execution_count": 9,
   "metadata": {
    "collapsed": true
   },
   "outputs": [],
   "source": [
    "def get_percentage_error(nn_updates, testY):\n",
    "    pes = [] # pes = percentage errors\n",
    "    y_minus_yhat = abs(testY.flatten() - nn_updates[\"yhat_test\"].flatten())\n",
    "    for a,b in zip(y_minus_yhat, testY.flatten()):\n",
    "        pes.append(a/b)\n",
    "    return pes"
   ]
  },
  {
   "cell_type": "code",
   "execution_count": 10,
   "metadata": {
    "collapsed": true
   },
   "outputs": [],
   "source": [
    "def plot_scatter_performance(trainY, testY, nn_updates):\n",
    "    plt.figure(figsize=(5,5))\n",
    "    sns.regplot(trainY.flatten(), nn_updates[\"yhat_train\"].flatten(), robust=False, fit_reg=False, scatter_kws={'alpha': 0.45}, color=\"salmon\")\n",
    "    sns.regplot(testY.flatten(), nn_updates[\"yhat_test\"].flatten(), robust=False, fit_reg=False, color=\"steelblue\")\n",
    "    plt.xlim((0,1.1))\n",
    "    plt.ylim((0,1.1))\n",
    "    plt.plot([[0,0], [1,1]], \"--\")\n",
    "    plt.xlabel(\"Real RPKM signal normalized\")\n",
    "    plt.ylabel(\"Predicted RPKM signal\")\n",
    "    plt.title(\"Median per. error: {}\".format(round(np.median(get_percentage_error(nn_updates, testY)),2)))"
   ]
  },
  {
   "cell_type": "code",
   "execution_count": 11,
   "metadata": {},
   "outputs": [
    {
     "name": "stdout",
     "output_type": "stream",
     "text": [
      "((18, 7), (7, 2))\n"
     ]
    }
   ],
   "source": [
    "wts = get_random_wts(use_h2=True, i_frac=0.4, h1_frac=0.4)"
   ]
  },
  {
   "cell_type": "code",
   "execution_count": 17,
   "metadata": {},
   "outputs": [
    {
     "data": {
      "image/png": "[encoded data removed]",
      "text/plain": [
       "<matplotlib.figure.Figure at 0x11254f890>"
      ]
     },
     "metadata": {},
     "output_type": "display_data"
    }
   ],
   "source": [
    "nn_updates = train_tensorflow_nn(wts,\n",
    "                                 trainX, trainY, testX, testY,\n",
    "                                 max_iter=200, pkeep_train=0.7, lamda=0.00000005,\n",
    "                                 starter_learning_rate=0.7, decay_at_step=30,\n",
    "                                 use_sigmoid_h1=True, \n",
    "                                 use_sigmoid_h2=False, \n",
    "                                 use_sigmoid_yhat=False)\n",
    "\n",
    "plot_scatter_performance(trainY, testY, nn_updates)"
   ]
  },
  {
   "cell_type": "code",
   "execution_count": 13,
   "metadata": {},
   "outputs": [
    {
     "data": {
      "text/plain": [
       "'hyperparams to train:\\n1. lambda\\n2. number of hidden layers\\n3. number of hidden units\\n3. starter learning rate\\n5. use_sigmoid_h1\\n6. use_sigmoid_h2'"
      ]
     },
     "execution_count": 13,
     "metadata": {},
     "output_type": "execute_result"
    }
   ],
   "source": [
    "'''hyperparams to train:\n",
    "1. lambda\n",
    "2. number of hidden layers\n",
    "3. number of hidden units\n",
    "3. starter learning rate\n",
    "5. use_sigmoid_h1\n",
    "6. use_sigmoid_h2'''"
   ]
  },
  {
   "cell_type": "code",
   "execution_count": 14,
   "metadata": {},
   "outputs": [
    {
     "data": {
      "text/plain": [
       "E055_SKIN.PEN.FRSK.FIB.01_Epithelial    0.720689\n",
       "E056_SKIN.PEN.FRSK.FIB.02_Epithelial    0.745050\n",
       "E059_SKIN.PEN.FRSK.MEL.01_Epithelial    0.661716\n",
       "E061_SKIN.PEN.FRSK.MEL.03_Epithelial    0.614801\n",
       "E057_SKIN.PEN.FRSK.KER.02_Epithelial    0.558713\n",
       "E058_SKIN.PEN.FRSK.KER.03_Epithelial    0.514834\n",
       "E028_BRST.HMEC.35_Epithelial            0.727079\n",
       "E027_BRST.MYO_Epithelial                0.512701\n",
       "Name: (MYOD1, chr11:17740609-17741609, chr11:17240000-18100000), dtype: float64"
      ]
     },
     "execution_count": 14,
     "metadata": {},
     "output_type": "execute_result"
    }
   ],
   "source": [
    "mp.test_goi"
   ]
  },
  {
   "cell_type": "code",
   "execution_count": null,
   "metadata": {
    "collapsed": true
   },
   "outputs": [],
   "source": []
  }
 ],
 "metadata": {
  "kernelspec": {
   "display_name": "Python 2",
   "language": "python",
   "name": "python2"
  },
  "language_info": {
   "codemirror_mode": {
    "name": "ipython",
    "version": 2
   },
   "file_extension": ".py",
   "mimetype": "text/x-python",
   "name": "python",
   "nbconvert_exporter": "python",
   "pygments_lexer": "ipython2",
   "version": "2.7.13"
  }
 },
 "nbformat": 4,
 "nbformat_minor": 2
}
