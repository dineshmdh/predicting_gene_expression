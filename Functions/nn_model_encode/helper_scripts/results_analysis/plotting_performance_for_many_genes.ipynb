{
 "cells": [
  {
   "cell_type": "code",
   "execution_count": 1,
   "metadata": {
    "collapsed": true
   },
   "outputs": [],
   "source": [
    "import re\n",
    "import os\n",
    "import numpy as np\n",
    "import pandas as pd\n",
    "import matplotlib.pyplot as plt\n",
    "%matplotlib inline\n",
    "import seaborn as sns\n",
    "from get_log_class import GetLog\n",
    "\n",
    "font = {'family' : 'normal', 'weight' : 'normal', 'size'   : 40} # weight can be \"bold\" or \"normal\"\n",
    "plt.rc('font', **font)\n",
    "plt.rcParams['pdf.fonttype'] = 42\n",
    "\n",
    "\n",
    "inputDir = \"/Users/Dinesh/Dropbox/Github/predicting_gex_with_nn_v2/Output/BC_genes/Output_BCgenes\"\n",
    "performance_metric = \"test_loss\" # \"train_and_test_cbyr\" # \"test_cbyr\" # \"train_and_test_cbyr\" # \"test_cbyr\"\n",
    "use=\"median\"  # \"max\", \"min\""
   ]
  },
  {
   "cell_type": "code",
   "execution_count": 2,
   "metadata": {},
   "outputs": [
    {
     "name": "stdout",
     "output_type": "stream",
     "text": [
      "(224, 43)\n"
     ]
    }
   ],
   "source": [
    "'''Get the cell lines that have < 21 files when the original set of dhs sites and TFs are used. This is \n",
    "21 b/c 4 of the files generated are layer sizes, and weight matrices.'''\n",
    "samples_to_use = []  # has all 21 files\n",
    "samples_not_used = []  # not any TF present so no TF / joint model present\n",
    "orig_logs = {}  # {gene:[orig_log1, orig_log2, .. , orig_log5]}, where orig_log is log w/ orig DHSs and TFs.\n",
    "\n",
    "for adir in os.listdir(inputDir):\n",
    "    if (adir.__contains__(\"_T\") and (adir.__contains__(\"_t\"))\n",
    "       and (not adir.__contains__(\"rTFs_rDHSs\"))):\n",
    "        agene = re.split(\"_\", adir)[0]\n",
    "        if (len(os.listdir(os.path.join(inputDir,adir))) == 21):  # note 21 b/c checked; could be different if script is changed\n",
    "            samples_to_use.append(agene)\n",
    "            alog = GetLog(os.path.join(inputDir, adir, agene+\".log\"))\n",
    "            if (alog.isTainted):\n",
    "                continue\n",
    "            if (agene in orig_logs.keys()):\n",
    "                orig_logs[agene].append(alog)\n",
    "            else:\n",
    "                orig_logs[agene] = [alog]\n",
    "        else:\n",
    "            samples_not_used.append(agene)\n",
    "\n",
    "samples_to_use = set(samples_to_use)\n",
    "samples_not_used = set(samples_not_used)\n",
    "\n",
    "print(len(samples_to_use), len(samples_not_used))  # returns 224, 43"
   ]
  },
  {
   "cell_type": "code",
   "execution_count": 3,
   "metadata": {
    "collapsed": true
   },
   "outputs": [],
   "source": [
    "'''Now get the random logs for the samples to use'''\n",
    "random_logs = {}   # {gene:[random_log1, random_log2, .. , random_log5]}\n",
    "for adir in os.listdir(inputDir):\n",
    "    if (adir.__contains__(\"_T\") and (adir.__contains__(\"_t\"))\n",
    "       and (adir.__contains__(\"rTFs_rDHSs\"))):\n",
    "        agene = re.split(\"_\", adir)[0]\n",
    "        if (agene in samples_to_use):\n",
    "            alog = GetLog(os.path.join(inputDir, adir, agene+\".log\"))\n",
    "            if (alog.isTainted):\n",
    "                continue\n",
    "            if (agene in random_logs.keys()):\n",
    "                random_logs[agene].append(alog)\n",
    "            else:\n",
    "                random_logs[agene] = [alog]"
   ]
  },
  {
   "cell_type": "code",
   "execution_count": 4,
   "metadata": {
    "collapsed": true
   },
   "outputs": [],
   "source": [
    "# sns.boxplot(x=\"mode\", y=\"perf\", data=df_ns_pooled, fliersize=3)\n",
    "def get_df_pooled_perf(dict_logs, use_best):\n",
    "    pooled_perf = {}\n",
    "    pooled_perf[\"mode\"] = []\n",
    "    pooled_perf[\"perf\"] = []\n",
    "    for agene in dict_logs.keys():  # dict_logs == {agene:[log1, log2, .., log5]}\n",
    "        for amode in [\"dhss\", \"tfs\", \"dhss_tfs\"]:\n",
    "            perfs = []\n",
    "            for i, alog in enumerate(dict_logs[agene]):\n",
    "                perfs.append(alog.get_best_perf(mode=amode, by=performance_metric))\n",
    "            if (use_best):\n",
    "                pooled_perf[\"mode\"].append(amode)\n",
    "                pooled_perf[\"perf\"].append(np.median(perfs))  # this function defines \"best\"\n",
    "            else:\n",
    "                for aperf in perfs:\n",
    "                    pooled_perf[\"mode\"].append(amode)\n",
    "                    pooled_perf[\"perf\"].append(aperf)\n",
    "    df_pooled_perf = pd.DataFrame(pooled_perf, columns=pooled_perf.keys())\n",
    "    return df_pooled_perf"
   ]
  },
  {
   "cell_type": "code",
   "execution_count": 5,
   "metadata": {},
   "outputs": [],
   "source": [
    "'''Plot boxplot from the pooled df'''\n",
    "df_pooled_perf_orig = get_df_pooled_perf(orig_logs, use_best=True)  # see function to see what \"best\" means\n",
    "df_pooled_perf_random = get_df_pooled_perf(random_logs, use_best=True)\n",
    "df_pooled_perf_orig[\"orig_or_random\"] = \"orig\"\n",
    "df_pooled_perf_random[\"orig_or_random\"] = \"random\"\n",
    "df_pooled_perf_orig_and_random = pd.concat([df_pooled_perf_random, df_pooled_perf_orig])"
   ]
  },
  {
   "cell_type": "code",
   "execution_count": 6,
   "metadata": {},
   "outputs": [
    {
     "data": {
      "image/png": "[encoded data removed]",
      "text/plain": [
       "<matplotlib.figure.Figure at 0x117574e90>"
      ]
     },
     "metadata": {},
     "output_type": "display_data"
    }
   ],
   "source": [
    "sns.set(font_scale=1.7)\n",
    "sns.boxplot(x=\"mode\", y=\"perf\", data=df_pooled_perf_orig_and_random, \n",
    "            fliersize=3, hue=\"orig_or_random\", palette=\"Set2\", linewidth=1.2)\n",
    "plt.ylabel(\"Performance({})\".format(performance_metric))\n",
    "plt.xlabel(\"Modes\")\n",
    "# plt.ylim(0,0.35)\n",
    "plt.savefig(\"perf_many_bc_genes_{}.pdf\".format(performance_metric))"
   ]
  },
  {
   "cell_type": "code",
   "execution_count": null,
   "metadata": {
    "collapsed": true
   },
   "outputs": [],
   "source": []
  }
 ],
 "metadata": {
  "kernelspec": {
   "display_name": "Python 2",
   "language": "python",
   "name": "python2"
  },
  "language_info": {
   "codemirror_mode": {
    "name": "ipython",
    "version": 2
   },
   "file_extension": ".py",
   "mimetype": "text/x-python",
   "name": "python",
   "nbconvert_exporter": "python",
   "pygments_lexer": "ipython2",
   "version": "2.7.13"
  }
 },
 "nbformat": 4,
 "nbformat_minor": 2
}
