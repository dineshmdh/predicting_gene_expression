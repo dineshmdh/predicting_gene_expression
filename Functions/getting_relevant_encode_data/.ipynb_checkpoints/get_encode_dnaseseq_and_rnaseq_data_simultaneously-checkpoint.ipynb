{
 "cells": [
  {
   "cell_type": "markdown",
   "metadata": {},
   "source": [
    "### Created on October 17, 2017\n",
    "This script is different from the previous versions in that here I am processing DNase-seq and RNA-seq simultaneously (to be precise - at each step of the processing). I have also added some level of heirarchy in selecting the right processed or signal files. \n",
    "\n",
    "Below, \"data type\" refer to either of DNase-seq or RNA-seq data types. C/T-samples and cell lines are synonymous.\n",
    "\n",
    "Some things to note:\n",
    "1. All cell line / tissue samples have tsv (rnaseq) and peaks (dnase-seq) files. But a few do not have \"bigWig\" files. They only have {\"alignments\", \"hotspots\", \"unfiltered alignments\"} to choose from. \n",
    "\n",
    "**Regarding \"biosample_summary\" field (below):**\n",
    "The metadata dataframes is not complete. Other information are also missing - for example, some cell lines were treated with drugs, following which the experiments were done. To get these additional df_metadata information, we have to parse through the JSON files of each experiment and file accession, and subselect the files based on \"biosample_summary\" and file types for the experiments..\n",
    "\n",
    "For this, we need to parse through the EXPERIMENT ACCESSION NUMBER. \n",
    "Using the info in this tutorial: https://www.encodeproject.org/help/rest-api/"
   ]
  },
  {
   "cell_type": "code",
   "execution_count": 1,
   "metadata": {},
   "outputs": [
    {
     "data": {
      "text/html": [
       "\n",
       "<style>\n",
       "    div#notebook-container    { width: 97%; }\n",
       "    div#menubar-container     { width: 65%; }\n",
       "    div#maintoolbar-container { width: 90%; }\n",
       "</style>\n"
      ],
      "text/plain": [
       "<IPython.core.display.HTML object>"
      ]
     },
     "metadata": {},
     "output_type": "display_data"
    }
   ],
   "source": [
    "from IPython.display import display, HTML\n",
    "\n",
    "display(HTML(data=\"\"\"\n",
    "<style>\n",
    "    div#notebook-container    { width: 97%; }\n",
    "    div#menubar-container     { width: 65%; }\n",
    "    div#maintoolbar-container { width: 90%; }\n",
    "</style>\n",
    "\"\"\"))\n",
    "\n",
    "import time\n",
    "import re\n",
    "import sys\n",
    "import collections as col\n",
    "import numpy as np\n",
    "\n",
    "import pandas as pd\n",
    "pd.options.display.max_rows = 300\n",
    "pd.options.display.max_columns = 50 # default is 20\n",
    "pd.set_option('expand_frame_repr', True)\n",
    "\n",
    "import helper_functions\n",
    "reload(helper_functions)\n",
    "from helper_functions import get_df_summary  # prints number of unique C/T-samples, Output types etc.\n",
    "from helper_functions import get_cellline_to_datatype_dict  # returns dict of format {C/T-sample : {DNase-seq:5, rnaseq:3}\n",
    "from helper_functions import process_cellline_to_datatype_summary  # Prints number of C/T-samples with both data-types, returns relevant_celllines\n",
    "from helper_functions import get_celllines_without_dnase_signal  # returns merged df_dnase_meta for C/T-samples without bigWig dnase signal files\n",
    "from helper_functions import get_biosample_summary  # adds biosample_summary field by processing \"Experiment accession\" using JSON\n",
    "from helper_functions import filter_by_treatment_fraction_phase  # ensures dnase signal and rnase tsvs match for the (trt, fraction, phase) conditions\n",
    "from helper_functions import filter_by_audit  # for gex tsvs, samples with \"missing spikeins\" are filtered if # reps remains the same\n",
    "from helper_functions import filter_by_library_composition  # only relevant for gex tsvs, precedence of (library, depletedIn) in order is given to (poly, rRNA), (poly, -), (RNA, rRNA) and (RNA, -); only filtered if # reps remains the same \n",
    "from helper_functions import filter_by_lab  # encode is preferred over other labs\n",
    "from helper_functions import filter_by_output_type  # only relevant for datatype=\"dnase_signal\" b/c the others are \"peaks\" and \"gene quantifications\" only"
   ]
  },
  {
   "cell_type": "code",
   "execution_count": 2,
   "metadata": {},
   "outputs": [
    {
     "name": "stderr",
     "output_type": "stream",
     "text": [
      "/Users/Dinesh/anaconda/lib/python2.7/site-packages/IPython/core/interactiveshell.py:2718: DtypeWarning: Columns (23) have mixed types. Specify dtype option on import or set low_memory=False.\n",
      "  interactivity=interactivity, compiler=compiler, result=result)\n"
     ]
    },
    {
     "name": "stdout",
     "output_type": "stream",
     "text": [
      "('Shape:', (14873, 50))\n",
      "('Number of unique files:', 14873)\n",
      "('Number of unique C/T-samples:', 286)\n",
      "('Number of experiment accessions:', 1045)\n",
      "('Number of Output type:', 22)\n",
      "There is no biosample_summary field.\n"
     ]
    }
   ],
   "source": [
    "'''Get df_metadata'''\n",
    "df_metadata = pd.read_csv(\"metadata.tsv\", sep='\\t')  # this is in the parent directory\n",
    "df_metadata = df_metadata.replace(np.nan, \"-\", regex=True)  #Replace NaNs with -s\n",
    "# Filter by basic fields (Biosample organism and assembly) before any processing \n",
    "df_metadata = df_metadata[(df_metadata[\"Biosample organism\"] == \"Homo sapiens\") &\n",
    "                          (df_metadata[\"Assembly\"] == \"hg19\")]\n",
    "get_df_summary(df_metadata)"
   ]
  },
  {
   "cell_type": "code",
   "execution_count": 3,
   "metadata": {},
   "outputs": [
    {
     "name": "stdout",
     "output_type": "stream",
     "text": [
      "('HepG2', {'DNase-seq': 50, 'RNA-seq': 354})\n",
      "('fibroblast of arm', {'DNase-seq': 20, 'RNA-seq': 50})\n",
      "('fibroblast of lung', {'RNA-seq': 114, 'DNase-seq': 80})\n",
      "('Ishikawa', {'DNase-seq': 6, 'RNA-seq': 72})\n",
      "..\n",
      "('Number of unique C/T-samples (or cell lines) w/ both data types (that make relevant_celllines):', 111)\n",
      "('Number of C/T-samples with at least one data type:', 286)\n"
     ]
    }
   ],
   "source": [
    "'''Get relevant cell lines'''\n",
    "cellline_to_datatype = get_cellline_to_datatype_dict(df_metadata)  # returns {C/T-sample : {DNase-seq:5, rnaseq:3}\n",
    "relevant_celllines = process_cellline_to_datatype_summary(cellline_to_datatype)"
   ]
  },
  {
   "cell_type": "code",
   "execution_count": 4,
   "metadata": {},
   "outputs": [
    {
     "name": "stdout",
     "output_type": "stream",
     "text": [
      "('Shape:', (546, 50))\n",
      "('Number of unique files:', 546)\n",
      "('Number of unique C/T-samples:', 111)\n",
      "('Number of experiment accessions:', 352)\n",
      "('Number of Output type:', 1)\n",
      "('    The output types are:', set(['gene quantifications']))\n",
      "There is no biosample_summary field.\n"
     ]
    }
   ],
   "source": [
    "'''Before getting the biosample_summaries, filter by:\n",
    "    - relevant_celllines\n",
    "    - output type \n",
    "This should significantly remove the number of unique \"Experiment accession\" fields to get biosample_summary for.'''\n",
    "df_rnase_meta = df_metadata[(df_metadata[\"Assay\"] == \"RNA-seq\") &\n",
    "                            (df_metadata[\"Biosample term name\"].isin(relevant_celllines)) &\n",
    "                           (df_metadata[\"File format\"] == \"tsv\") &\n",
    "                           (df_metadata[\"Output type\"] == \"gene quantifications\")]\n",
    "\n",
    "get_df_summary(df_rnase_meta)"
   ]
  },
  {
   "cell_type": "code",
   "execution_count": null,
   "metadata": {
    "collapsed": true
   },
   "outputs": [],
   "source": [
    "'''debugging'''"
   ]
  },
  {
   "cell_type": "code",
   "execution_count": null,
   "metadata": {
    "collapsed": true
   },
   "outputs": [],
   "source": []
  },
  {
   "cell_type": "code",
   "execution_count": null,
   "metadata": {
    "collapsed": true
   },
   "outputs": [],
   "source": []
  },
  {
   "cell_type": "code",
   "execution_count": null,
   "metadata": {
    "collapsed": true
   },
   "outputs": [],
   "source": []
  },
  {
   "cell_type": "code",
   "execution_count": null,
   "metadata": {
    "collapsed": true
   },
   "outputs": [],
   "source": []
  },
  {
   "cell_type": "code",
   "execution_count": null,
   "metadata": {
    "collapsed": true
   },
   "outputs": [],
   "source": [
    "# end of debugging"
   ]
  },
  {
   "cell_type": "code",
   "execution_count": 7,
   "metadata": {},
   "outputs": [
    {
     "name": "stdout",
     "output_type": "stream",
     "text": [
      "('Shape:', (1247, 50))\n",
      "('Number of unique files:', 1247)\n",
      "('Number of unique C/T-samples:', 111)\n",
      "('Number of experiment accessions:', 426)\n",
      "('Number of Output type:', 6)\n",
      "There is no biosample_summary field.\n"
     ]
    }
   ],
   "source": [
    "'''For dnase data, the Output type set is: \n",
    "{'alignments','base overlap signal', 'hotspots', 'peaks', 'raw signal', \n",
    "'signal', 'signal of unique reads', 'unfiltered alignments', 'validation'}\n",
    "Interestingly, many but not all samples have corresponding bigWig files. So,\n",
    "for these samples, aligntments output type and bam File formats (- have checked for this)\n",
    "are selected separately and merged below.'''\n",
    "df_dnase_meta_bigWigs = df_metadata[(df_metadata[\"Assay\"] == \"DNase-seq\") &\n",
    "                            (df_metadata[\"Biosample term name\"].isin(relevant_celllines)) &\n",
    "                           (df_metadata[\"File format\"].isin([\"bed narrowPeak\", \"bigWig\"])) &\n",
    "                           (df_metadata[\"Output type\"].isin([\"peaks\", \"signal\", \"raw signal\", \"signal of unique reads\", \"base overlap signal\"])) ]\n",
    "\n",
    "df_dnase_no_bigwigs = get_celllines_without_dnase_signal(df_metadata, relevant_celllines)\n",
    "df_dnase_meta_bams = df_metadata[(df_metadata[\"Assay\"] == \"DNase-seq\") &\n",
    "                            (df_metadata[\"Biosample term name\"].isin(set(df_dnase_no_bigwigs[\"Biosample term name\"])) ) &\n",
    "                           (df_metadata[\"File format\"].isin([\"bam\"])) &\n",
    "                           (df_metadata[\"Output type\"].isin([\"alignments\"]))]  # not selecting for \"unfiltered alignments; all \"alignments\" have bams\n",
    "\n",
    "'''Merge these dnase_meta dfs'''\n",
    "df_dnase_meta = pd.concat([df_dnase_meta_bigWigs, df_dnase_meta_bams])\n",
    "del df_dnase_meta_bigWigs, df_dnase_meta_bams\n",
    "get_df_summary(df_dnase_meta)"
   ]
  },
  {
   "cell_type": "code",
   "execution_count": 8,
   "metadata": {},
   "outputs": [
    {
     "name": "stdout",
     "output_type": "stream",
     "text": [
      "('done with ', 0, ' experiment accessions.')\n",
      "('done with ', 100, ' experiment accessions.')\n",
      "('done with ', 200, ' experiment accessions.')\n",
      "('done with ', 300, ' experiment accessions.')\n",
      "('done with ', 400, ' experiment accessions.')\n",
      "('done with ', 500, ' experiment accessions.')\n",
      "('done with ', 600, ' experiment accessions.')\n",
      "('done with ', 700, ' experiment accessions.')\n"
     ]
    }
   ],
   "source": [
    "'''Merge these meta dfs, get the biosample_summaries'''\n",
    "df_metadata = pd.concat([df_dnase_meta, df_rnase_meta])\n",
    "del df_dnase_meta, df_rnase_meta\n",
    "df_metadata = get_biosample_summary(df_metadata)  # this step takes a few minutes.."
   ]
  },
  {
   "cell_type": "code",
   "execution_count": 97,
   "metadata": {},
   "outputs": [
    {
     "name": "stdout",
     "output_type": "stream",
     "text": [
      "('Shape:', (1793, 51))\n",
      "('Number of unique files:', 1793)\n",
      "('Number of unique C/T-samples:', 111)\n",
      "('Number of experiment accessions:', 778)\n",
      "('Number of Output type:', 7)\n",
      "('Number of unique biosample summaries:', 487)\n"
     ]
    }
   ],
   "source": [
    "'''Reorder the columns so that biosample_summary is first, and so on..\n",
    "The following string of column names is obtained from excel header of an old dataframe that was partially processed.'''\n",
    "new_meta_cols = \"biosample_summary\tBiosample term name\tBiosample term id\tExperiment accession\tAssay\tOutput type\tFile format\tLibrary made from\tLibrary depleted in\tBiological replicate(s)\tTechnical replicate\tBiosample type\tBiosample life stage\tBiosample sex\tBiosample Age\tAudit WARNING\tAudit INTERNAL_ACTION\tAudit NOT_COMPLIANT\tAudit ERROR\tBiosample treatments\tBiosample subcellular fraction term name\tLibrary extraction method\tLibrary lysis method\tLibrary strand specific\tProject\tLab\tExperiment date released\tDerived from\tSize\tmd5sum\tFile accession\tFile download URL\tAssembly\tFile Status\tBiosample organism\tBiosample phase\tBiosample synchronization stage\tExperiment target\tAntibody accession\tRBNS protein concentration\tLibrary fragmentation method\tLibrary size range\tRead length\tMapped read length\tRun type\tPaired end\tPaired with\tPlatform\tControlled by\tLibrary crosslinking method\tdbxrefs\"\n",
    "new_meta_cols = re.split(\"\\t\", new_meta_cols)\n",
    "assert set(new_meta_cols) == set(df_metadata.columns)\n",
    "df_metadata = df_metadata[new_meta_cols]\n",
    "df_metadata.sort_values(by=[\"Biosample term name\", \"Assay\", \"File format\", \"biosample_summary\"], inplace =True)\n",
    "get_df_summary(df_metadata)"
   ]
  },
  {
   "cell_type": "code",
   "execution_count": 98,
   "metadata": {},
   "outputs": [
    {
     "name": "stdout",
     "output_type": "stream",
     "text": [
      "('Note the ascii char (in estradiol):', set(['all-trans-retinoic acid', 'retinoic acid', 'interleukin-3, erythropoietin, kit ligand, hydrocortisone succinate', 'interferon alpha', 'dimethyl sulfoxide', '-', '17beta-estradiol', 'vorinostat', 'bisphenol A', 'genistein', 'doxycycline', 'interferon gamma', 'serum free', 'dexamethasone']))\n"
     ]
    }
   ],
   "source": [
    "'''Turns out there was an encoding issue associated with \"\\xeb\" ascii character.. (which converts to \\beta). \n",
    "Need to sort this before I can save the df to a file.'''\n",
    "print(\"Note the ascii char (in estradiol):\", set(df_metadata[\"Biosample treatments\"]))\n",
    "'''Replacing the treatment to 17beta-estradiol in biosample treatments'''\n",
    "no_ascii_biosample_trtments = [\"17beta-estradiol\" if \"estradiol\" in x else x for x in list(df_metadata[\"Biosample treatments\"])]\n",
    "df_metadata[\"Biosample treatments\"] = no_ascii_biosample_trtments\n",
    "df_metadata.to_csv(\"metadata_wbiosample_summary_partiallyProcessed.csv\", index=False, encoding='utf-8')"
   ]
  },
  {
   "cell_type": "code",
   "execution_count": 99,
   "metadata": {},
   "outputs": [
    {
     "name": "stdout",
     "output_type": "stream",
     "text": [
      "HepG2\n",
      "('HepG2', 9, (4, 3, 2), set(['1', '2']))\n",
      "fibroblast of arm\n",
      "('fibroblast of arm', 6, (2, 2, 2), set(['1', '2']))\n",
      "fibroblast of lung\n",
      "('fibroblast of lung', 23, (11, 8, 4), set(['1', '1, 2', '2']))\n",
      "Ishikawa\n",
      "WARNING: Ishikawa has 'extremely low spot score' but are retained to save the replicate.\n",
      "WARNING: Ishikawa has 'extremely low spot score' but are retained to save the replicate.\n",
      "WARNING: Ishikawa has missing spikeins but are retained to save the replicate.\n",
      "WARNING: Ishikawa has missing spikeins but are retained to save the replicate.\n",
      "('Ishikawa', 4, (1, 1, 2), set(['1', '2', '-']))\n",
      "pancreas\n",
      "WARNING: pancreas has 'extremely low spot score' but are retained to save the replicate.\n",
      "WARNING: pancreas has 'extremely low spot score' but are retained to save the replicate.\n",
      "('pancreas', 6, (2, 2, 2), set(['1']))\n",
      "H1-hESC\n",
      "('H1-hESC', 4, (1, 1, 2), set(['1', '2']))\n",
      "renal pelvis\n",
      "('renal pelvis', 15, (6, 6, 3), set(['1']))\n",
      "right renal pelvis\n",
      "WARNING: right renal pelvis has 'extremely low spot score' but are retained to save the replicate.\n",
      "WARNING: right renal pelvis has 'extremely low spot score' but are retained to save the replicate.\n",
      "('right renal pelvis', 12, (4, 4, 4), set(['1']))\n",
      "large intestine\n",
      "('large intestine', 19, (6, 6, 7), set(['1']))\n",
      "left lung\n",
      "('left lung', 30, (12, 12, 6), set(['1']))\n",
      "CD8-positive, alpha-beta T cell\n",
      "('CD8-positive, alpha-beta T cell', 4, (1, 1, 2), set(['1']))\n",
      "testis\n",
      "WARNING: testis has 'extremely low spot score' but are retained to save the replicate.\n",
      "('testis', 5, (1, 1, 3), set(['1']))\n",
      "left renal cortex interstitium\n",
      "('left renal cortex interstitium', 6, (1, 1, 4), set(['1']))\n",
      "thymus\n",
      "WARNING: thymus has 'extremely low spot score' but are retained to save the replicate.\n",
      "WARNING: thymus has 'extremely low spot score' but are retained to save the replicate.\n",
      "('thymus', 14, (4, 4, 6), set(['1', '2']))\n",
      "spinal cord\n",
      "WARNING: spinal cord has 'extremely low spot score' but are retained to save the replicate.\n",
      "WARNING: spinal cord has 'extremely low spot score' but are retained to save the replicate.\n",
      "WARNING: spinal cord has 'extremely low spot score' but are retained to save the replicate.\n",
      "('spinal cord', 7, (3, 2, 2), set(['1', '2']))\n",
      "A549\n",
      "('A549', 8, (3, 3, 2), set(['1', '2']))\n",
      "SJSA1\n",
      "('SJSA1', 6, (2, 2, 2), set(['1', '2']))\n",
      "kidney\n",
      "('kidney', 13, (6, 1, 6), set(['1']))\n",
      "SK-MEL-5\n",
      "('SK-MEL-5', 6, (2, 2, 2), set(['1', '2']))\n",
      "K562\n",
      "('K562', 9, (2, 3, 4), set(['1', '2']))\n",
      "T47D\n",
      "WARNING: T47D has 'extremely low spot score' but are retained to save the replicate.\n",
      "WARNING: T47D has 'extremely low spot score' but are retained to save the replicate.\n",
      "WARNING: T47D has missing spikeins but are retained to save the replicate.\n",
      "WARNING: T47D has missing spikeins but are retained to save the replicate.\n",
      "('T47D', 4, (1, 1, 2), set(['1', '2', '-']))\n",
      "endothelial cell of umbilical vein\n",
      "('endothelial cell of umbilical vein', 8, (3, 3, 2), set(['1', '1, 2', '2']))\n",
      "MCF-7\n",
      "('MCF-7', 10, (4, 4, 2), set(['1', '2']))\n",
      "IMR-90\n",
      "('IMR-90', 10, (4, 4, 2), set(['1', '3', '2', '4']))\n",
      "mammary epithelial cell\n",
      "('WARNING:', 'mammary epithelial cell', 'could not be filtered by output type for dnase bigWigs to have all the replicates of the same output type.')\n",
      "('WARNING:', 'mammary epithelial cell', 'could not be filtered by Lab for', 'dnase_pks', 'to have all the replicates of the same output type.')\n",
      "('WARNING:', 'mammary epithelial cell', 'could not be filtered by Lab for', 'dnase_signal', 'to have all the replicates of the same output type.')\n",
      "('mammary epithelial cell', 7, (3, 3, 1), set(['1', '2', '-']))\n",
      "B cell\n",
      "('WARNING:', 'B cell', 'could not be filtered by output type for dnase bigWigs to have all the replicates of the same output type.')\n",
      "('WARNING:', 'B cell', 'could not be filtered by Lab for', 'dnase_pks', 'to have all the replicates of the same output type.')\n",
      "('WARNING:', 'B cell', 'could not be filtered by Lab for', 'dnase_signal', 'to have all the replicates of the same output type.')\n",
      "('B cell', 12, (6, 4, 2), set(['1', '1, 2', '2', '-']))\n",
      "T-cell\n",
      "('T-cell', 9, (4, 4, 1), set(['1']))\n",
      "skin fibroblast\n",
      "('WARNING:', 'skin fibroblast', 'could not be filtered by output type for dnase bigWigs to have all the replicates of the same output type.')\n",
      "('WARNING:', 'skin fibroblast', 'could not be filtered by Lab for', 'dnase_pks', 'to have all the replicates of the same output type.')\n",
      "('WARNING:', 'skin fibroblast', 'could not be filtered by Lab for', 'dnase_signal', 'to have all the replicates of the same output type.')\n",
      "('skin fibroblast', 26, (16, 6, 4), set(['1', '2', '-']))\n",
      "muscle of back\n",
      "('muscle of back', 30, (10, 10, 10), set(['1']))\n",
      "fibroblast of skin of abdomen\n",
      "('fibroblast of skin of abdomen', 9, (4, 3, 2), set(['1', '1, 2', '2']))\n",
      "adrenal gland\n",
      "WARNING: adrenal gland has 'extremely low spot score' but are retained to save the replicate.\n",
      "('adrenal gland', 12, (2, 3, 7), set(['1']))\n",
      "small intestine\n",
      "('small intestine', 24, (8, 8, 8), set(['1']))\n",
      "muscle of arm\n",
      "('muscle of arm', 30, (9, 9, 12), set(['1']))\n",
      "CD4-positive helper T cell\n",
      "('CD4-positive helper T cell', 6, (2, 2, 2), set(['1']))\n",
      "fibroblast of villous mesenchyme\n",
      "('fibroblast of villous mesenchyme', 9, (4, 3, 2), set(['1', '1, 2', '2']))\n",
      "SK-N-SH\n",
      "('SK-N-SH', 9, (4, 3, 2), set(['1', '1, 2', '2']))\n",
      "lung microvascular endothelial cell\n",
      "('lung microvascular endothelial cell', 9, (4, 3, 2), set(['1', '1, 2', '2']))\n",
      "skeletal muscle myoblast\n",
      "('skeletal muscle myoblast', 4, (1, 1, 2), set(['1', '2', '-']))\n",
      "SK-N-DZ\n",
      "('WARNING', 'SK-N-DZ', \"could not be filtered by 'treated with, fraction, phase' conditions.              Not one set of condition matched for both dnase signal and rnase tsvs.\")\n",
      "('SK-N-DZ', 10, (2, 4, 4), set(['1', '2']))\n",
      "GM12878\n",
      "('GM12878', 8, (2, 2, 4), set(['1', '2']))\n",
      "tracheal epithelial cell\n",
      "('tracheal epithelial cell', 5, (2, 1, 2), set(['1', '2', '-']))\n",
      "gastrocnemius medialis\n",
      "('gastrocnemius medialis', 7, (1, 1, 5), set(['1']))\n",
      "heart left ventricle\n",
      "('heart left ventricle', 6, (2, 2, 2), set(['1', '2']))\n",
      "pulmonary artery endothelial cell\n",
      "WARNING: pulmonary artery endothelial cell has 'extremely low spot score' but are retained to save the replicate.\n",
      "WARNING: pulmonary artery endothelial cell has 'extremely low spot score' but are retained to save the replicate.\n",
      "('pulmonary artery endothelial cell', 4, (1, 1, 2), set(['1', '2']))\n",
      "dermis microvascular lymphatic vessel endothelial cell\n",
      "('dermis microvascular lymphatic vessel endothelial cell', 14, (7, 5, 2), set(['1', '1, 2', '2']))\n",
      "spleen\n",
      "WARNING: spleen has 'extremely low spot score' but are retained to save the replicate.\n",
      "WARNING: spleen has 'extremely low spot score' but are retained to save the replicate.\n",
      "('spleen', 6, (1, 1, 4), set(['1']))\n",
      "right renal cortex interstitium\n",
      "('right renal cortex interstitium', 5, (1, 1, 3), set(['1']))\n",
      "ovary\n",
      "WARNING: ovary has 'extremely low spot score' but are retained to save the replicate.\n",
      "WARNING: ovary has 'extremely low spot score' but are retained to save the replicate.\n",
      "('ovary', 6, (3, 1, 2), set(['1']))\n",
      "muscle of trunk\n",
      "('muscle of trunk', 8, (3, 3, 2), set(['1']))\n",
      "left renal pelvis\n",
      "('left renal pelvis', 6, (1, 1, 4), set(['1']))\n",
      "foreskin fibroblast\n",
      "('foreskin fibroblast', 21, (11, 8, 2), set(['1', '1, 2', '2']))\n",
      "cardiac muscle cell\n",
      "('cardiac muscle cell', 9, (4, 3, 2), set(['1', '1, 2', '2']))\n",
      "muscle of leg\n",
      "('muscle of leg', 22, (7, 7, 8), set(['1']))\n",
      "stomach\n",
      "WARNING: stomach has 'extremely low spot score' but are retained to save the replicate.\n",
      "WARNING: stomach has 'extremely low spot score' but are retained to save the replicate.\n",
      "WARNING: stomach has 'extremely low spot score' but are retained to save the replicate.\n",
      "('stomach', 10, (2, 2, 6), set(['1', '2']))\n",
      "left kidney\n",
      "WARNING: left kidney has 'extremely low spot score' but are retained to save the replicate.\n",
      "WARNING: left kidney has 'extremely low spot score' but are retained to save the replicate.\n",
      "WARNING: left kidney has 'extremely low spot score' but are retained to save the replicate.\n",
      "('left kidney', 8, (5, 2, 1), set(['1', '2']))\n",
      "thyroid gland\n",
      "('thyroid gland', 12, (2, 2, 8), set(['1', '2']))\n",
      "uterus\n",
      "('uterus', 6, (1, 1, 4), set(['1', '2']))\n",
      "H7-hESC\n",
      "('WARNING:', 'H7-hESC', 'could not be filtered by output type for dnase bigWigs to have all the replicates of the same output type.')\n",
      "('WARNING:', 'H7-hESC', 'could not be filtered by Lab for', 'dnase_pks', 'to have all the replicates of the same output type.')\n",
      "('WARNING:', 'H7-hESC', 'could not be filtered by Lab for', 'dnase_signal', 'to have all the replicates of the same output type.')\n",
      "('H7-hESC', 9, (4, 3, 2), set(['1', '1, 2', '2', '-']))\n",
      "Daoy\n",
      "('Daoy', 6, (2, 2, 2), set(['1', '2']))\n",
      "hematopoietic multipotent progenitor cell\n",
      "('hematopoietic multipotent progenitor cell', 6, (3, 2, 1), set(['1', '2']))\n"
     ]
    },
    {
     "name": "stdout",
     "output_type": "stream",
     "text": [
      "HT1080\n",
      "('HT1080', 6, (2, 2, 2), set(['1', '2']))\n",
      "natural killer cell\n",
      "WARNING: natural killer cell has 'extremely low spot score' but are retained to save the replicate.\n",
      "WARNING: natural killer cell has 'extremely low spot score' but are retained to save the replicate.\n",
      "('natural killer cell', 5, (2, 2, 1), set(['1']))\n",
      "aortic smooth muscle cell\n",
      "('WARNING', 'aortic smooth muscle cell', \"could not be filtered by 'treated with, fraction, phase' conditions.              Not one set of condition matched for both dnase signal and rnase tsvs.\")\n",
      "('aortic smooth muscle cell', 5, (2, 1, 2), set(['1', '2', '-']))\n",
      "NCI-H460\n",
      "('NCI-H460', 6, (2, 2, 2), set(['1', '2']))\n",
      "right lung\n",
      "('right lung', 22, (9, 9, 4), set(['1']))\n",
      "HeLa-S3\n",
      "('HeLa-S3', 6, (2, 2, 2), set(['1', '2']))\n",
      "body of pancreas\n",
      "('body of pancreas', 6, (2, 2, 2), set(['1', '2']))\n",
      "hindlimb muscle\n",
      "('hindlimb muscle', 3, (1, 1, 1), set(['1']))\n",
      "keratinocyte\n",
      "('keratinocyte', 7, (2, 2, 3), set(['1', '2', '5']))\n",
      "bronchial epithelial cell\n",
      "('bronchial epithelial cell', 9, (4, 3, 2), set(['1', '1, 2', '2']))\n",
      "heart\n",
      "('heart', 18, (12, 3, 3), set(['1', '2']))\n",
      "transverse colon\n",
      "('transverse colon', 8, (2, 2, 4), set(['1']))\n",
      "lung\n",
      "('lung', 15, (9, 4, 2), set(['1', '2']))\n",
      "dermis blood vessel endothelial cell\n",
      "('dermis blood vessel endothelial cell', 21, (11, 8, 2), set(['1', '1, 2', '2']))\n",
      "renal cortex interstitium\n",
      "('renal cortex interstitium', 19, (8, 8, 3), set(['1']))\n",
      "Caki2\n",
      "('Caki2', 6, (2, 2, 2), set(['1', '2']))\n",
      "placenta\n",
      "WARNING: placenta has 'extremely low spot score' but are retained to save the replicate.\n",
      "WARNING: placenta has 'extremely low spot score' but are retained to save the replicate.\n",
      "('placenta', 8, (5, 2, 1), set(['1', '2']))\n",
      "umbilical cord\n",
      "('umbilical cord', 4, (1, 1, 2), set(['1', '2']))\n",
      "hepatocyte\n",
      "WARNING: hepatocyte has 'extremely low spot score' but are retained to save the replicate.\n",
      "WARNING: hepatocyte has 'extremely low spot score' but are retained to save the replicate.\n",
      "WARNING: hepatocyte has 'extremely low spot score' but are retained to save the replicate.\n",
      "WARNING: hepatocyte has 'extremely low spot score' but are retained to save the replicate.\n",
      "('hepatocyte', 6, (2, 2, 2), set(['1', '2']))\n",
      "prostate gland\n",
      "WARNING: prostate gland has 'extremely low spot score' but are retained to save the replicate.\n",
      "WARNING: prostate gland has 'extremely low spot score' but are retained to save the replicate.\n",
      "('prostate gland', 4, (1, 1, 2), set(['1']))\n",
      "bipolar neuron\n",
      "('bipolar neuron', 6, (2, 2, 2), set(['1', '2']))\n",
      "skin of body\n",
      "WARNING: skin of body has 'extremely low spot score' but are retained to save the replicate.\n",
      "WARNING: skin of body has 'extremely low spot score' but are retained to save the replicate.\n",
      "('skin of body', 4, (1, 1, 2), set(['1', '2']))\n",
      "forelimb muscle\n",
      "('forelimb muscle', 3, (1, 1, 1), set(['1']))\n",
      "brain\n",
      "('brain', 16, (12, 2, 2), set(['1', '2']))\n",
      "glomerular endothelial cell\n",
      "WARNING: glomerular endothelial cell has 'extremely low spot score' but are retained to save the replicate.\n",
      "WARNING: glomerular endothelial cell has 'extremely low spot score' but are retained to save the replicate.\n",
      "WARNING: glomerular endothelial cell has 'extremely low spot score' but are retained to save the replicate.\n",
      "WARNING: glomerular endothelial cell has 'extremely low spot score' but are retained to save the replicate.\n",
      "WARNING: glomerular endothelial cell has 'extremely low spot score' but are retained to save the replicate.\n",
      "('glomerular endothelial cell', 7, (3, 2, 2), set(['1', '1, 2', '2']))\n",
      "fibroblast of the aortic adventitia\n",
      "('fibroblast of the aortic adventitia', 9, (4, 3, 2), set(['1', '1, 2', '2']))\n",
      "Jurkat clone E61\n",
      "WARNING: Jurkat clone E61 has missing spikeins but are retained to save the replicate.\n",
      "WARNING: Jurkat clone E61 has missing spikeins but are retained to save the replicate.\n",
      "('Jurkat clone E61', 7, (3, 2, 2), set(['1', '1, 2', '2']))\n",
      "tongue\n",
      "WARNING: tongue has 'extremely low spot score' but are retained to save the replicate.\n",
      "WARNING: tongue has 'extremely low spot score' but are retained to save the replicate.\n",
      "('tongue', 6, (2, 2, 2), set(['1', '2']))\n",
      "induced pluripotent stem cell\n",
      "('WARNING:', 'induced pluripotent stem cell', 'could not be filtered by output type for dnase bigWigs to have all the replicates of the same output type.')\n",
      "('WARNING:', 'induced pluripotent stem cell', 'could not be filtered by Lab for', 'dnase_pks', 'to have all the replicates of the same output type.')\n",
      "('WARNING:', 'induced pluripotent stem cell', 'could not be filtered by Lab for', 'dnase_signal', 'to have all the replicates of the same output type.')\n",
      "('induced pluripotent stem cell', 9, (4, 3, 2), set(['1', '2', '-']))\n",
      "MG63\n",
      "('MG63', 6, (2, 2, 2), set(['1', '2']))\n",
      "HT-29\n",
      "('HT-29', 6, (2, 2, 2), set(['1', '2']))\n",
      "SJCRH30\n",
      "('SJCRH30', 8, (3, 3, 2), set(['1', '2']))\n",
      "H4\n",
      "('H4', 6, (2, 2, 2), set(['1', '2']))\n",
      "renal cortical epithelial cell\n",
      "('renal cortical epithelial cell', 9, (4, 3, 2), set(['1', '1, 2', '2']))\n",
      "urinary bladder\n",
      "WARNING: urinary bladder has 'extremely low spot score' but are retained to save the replicate.\n",
      "WARNING: urinary bladder has 'extremely low spot score' but are retained to save the replicate.\n",
      "('urinary bladder', 4, (1, 1, 2), set(['1', '2']))\n",
      "occipital lobe\n",
      "('occipital lobe', 4, (1, 1, 2), set(['1', '2']))\n",
      "common myeloid progenitor, CD34-positive\n",
      "('common myeloid progenitor, CD34-positive', 31, (15, 15, 1), set(['1', '2']))\n",
      "myotube\n",
      "('WARNING:', 'myotube', 'could not be filtered by output type for dnase bigWigs to have all the replicates of the same output type.')\n",
      "('WARNING:', 'myotube', 'could not be filtered by Lab for', 'dnase_pks', 'to have all the replicates of the same output type.')\n",
      "('WARNING:', 'myotube', 'could not be filtered by Lab for', 'dnase_signal', 'to have all the replicates of the same output type.')\n",
      "('myotube', 8, (3, 3, 2), set(['1', '2', '-']))\n",
      "A172\n",
      "('A172', 6, (2, 2, 2), set(['1', '2']))\n",
      "CD14-positive monocyte\n",
      "('WARNING:', 'CD14-positive monocyte', 'could not be filtered by output type for dnase bigWigs to have all the replicates of the same output type.')\n",
      "('WARNING:', 'CD14-positive monocyte', 'could not be filtered by Lab for', 'dnase_pks', 'to have all the replicates of the same output type.')\n",
      "('WARNING:', 'CD14-positive monocyte', 'could not be filtered by Lab for', 'dnase_signal', 'to have all the replicates of the same output type.')\n",
      "('CD14-positive monocyte', 8, (4, 2, 2), set(['1', '2', '-']))\n",
      "Karpas-422\n",
      "('Karpas-422', 6, (2, 2, 2), set(['1', '2']))\n",
      "neural progenitor cell\n",
      "('neural progenitor cell', 6, (2, 2, 2), set(['1', '2']))\n",
      "epithelial cell of proximal tubule\n",
      "('epithelial cell of proximal tubule', 7, (3, 2, 2), set(['1', '1, 2', '2']))\n",
      "G401\n",
      "('G401', 6, (2, 2, 2), set(['1', '2']))\n",
      "BE2C\n",
      "WARNING: BE2C has missing spikeins but are retained to save the replicate.\n",
      "WARNING: BE2C has missing spikeins but are retained to save the replicate.\n",
      "('BE2C', 7, (3, 2, 2), set(['1', '1, 2', '2']))\n",
      "astrocyte\n",
      "('astrocyte', 9, (4, 3, 2), set(['1', '1, 2', '2']))\n",
      "fibroblast of dermis\n",
      "('fibroblast of dermis', 9, (4, 3, 2), set(['1', '1, 2', '2']))\n",
      "kidney epithelial cell\n",
      "('kidney epithelial cell', 7, (3, 2, 2), set(['1', '1, 2', '2']))\n",
      "Panc1\n",
      "WARNING: Panc1 has missing spikeins but are retained to save the replicate.\n",
      "WARNING: Panc1 has missing spikeins but are retained to save the replicate.\n",
      "('Panc1', 7, (3, 2, 2), set(['1', '1, 2', '2']))\n",
      "OCI-LY7\n",
      "('OCI-LY7', 6, (2, 2, 2), set(['1', '2']))\n",
      "PC-3\n",
      "('PC-3', 6, (2, 2, 2), set(['1', '2']))\n"
     ]
    }
   ],
   "source": [
    "'''Process by each C/T-sample to finalize the samples to download'''\n",
    "dfs_filtered_to_merge = []\n",
    "for acellline in relevant_celllines:\n",
    "    print(acellline)\n",
    "    df = df_metadata[(df_metadata[\"Biosample term name\"] == acellline)]\n",
    "    '''filter by treatment condition, cellular fraction and phase'''\n",
    "    df = filter_by_treatment_fraction_phase(df)  # ensures dnase signal and rnase tsvs match for the (trt, fraction, phase) conditions\n",
    "\n",
    "    '''Split by data type'''\n",
    "    df_dnase_pks = df[df[\"Output type\"] == \"peaks\"]\n",
    "    df_dnase_signal = df[df[\"File format\"].isin([\"bigWig\", \"bam\"])]  # b/c not downloading rna-seq bigWigs or bams\n",
    "    df_rnase_tsvs = df[df[\"Output type\"] == \"gene quantifications\"]\n",
    "\n",
    "    '''filter by audit'''\n",
    "    df_dnase_pks = filter_by_audit(df_dnase_pks, data_type=\"dnase_pks\")\n",
    "    df_dnase_signal = filter_by_audit(df_dnase_signal, data_type=\"dnase_signal\")\n",
    "    df_rnase_tsvs = filter_by_audit(df_rnase_tsvs, data_type=\"rnase_tsvs\")\n",
    "\n",
    "    '''filter by output type (raw signal vs signal etc) - only relevant for dnase bigwig files'''\n",
    "    df_dnase_signal = filter_by_output_type(df_dnase_signal, data_type=\"dnase_signal\")\n",
    "\n",
    "    '''filter by lab'''\n",
    "    df_dnase_pks = filter_by_lab(df_dnase_pks, data_type=\"dnase_pks\")\n",
    "    df_dnase_signal = filter_by_lab(df_dnase_signal, data_type=\"dnase_signal\")\n",
    "    df_rnase_tsvs = filter_by_lab(df_rnase_tsvs, data_type=\"rnase_tsvs\")\n",
    "\n",
    "    '''filter by library composition - only relevant for rnase_tsvs'''\n",
    "    df_rnase_tsvs = filter_by_library_composition(df_rnase_tsvs, data_type=\"rnase_tsvs\")\n",
    "\n",
    "    df_filtered = pd.concat([df_dnase_pks, df_dnase_signal, df_rnase_tsvs])\n",
    "    dfs_filtered_to_merge.append(df_filtered)\n",
    "\n",
    "    print(acellline, df_filtered.shape[0], tuple((df_dnase_pks.shape[0], df_dnase_signal.shape[0], df_rnase_tsvs.shape[0])), set(df_filtered[\"Biological replicate(s)\"]))"
   ]
  },
  {
   "cell_type": "code",
   "execution_count": 103,
   "metadata": {
    "collapsed": true
   },
   "outputs": [],
   "source": [
    "'''Save the df_meta'''\n",
    "\n",
    "df_meta_before_pairing = pd.concat(dfs_filtered_to_merge)\n",
    "df_meta_before_pairing.sort_values(by=[\"Biosample term name\", \"Assay\", \"File format\", \"biosample_summary\"], inplace =True)\n",
    "#df_meta_before_pairing.to_csv(\"metadata_before_final_pairing_step.csv\", encoding='utf-8')\n",
    "\n",
    "df_dnase_pks = df_meta_before_pairing[df_meta_before_pairing[\"Output type\"] == \"peaks\"]\n",
    "df_dnase_signal = df_meta_before_pairing[df_meta_before_pairing[\"File format\"].isin([\"bigWig\", \"bam\"])]  # b/c not downloading rna-seq bigWigs or bams\n",
    "df_rnase_tsvs = df_meta_before_pairing[df_meta_before_pairing[\"Output type\"] == \"gene quantifications\"]\n",
    "assert 111 == len(set(df_dnase_pks[\"Biosample term name\"])) == len(set(df_dnase_signal[\"Biosample term name\"])) == len(set(df_rnase_tsvs[\"Biosample term name\"]))\n",
    "\n",
    "writer = pd.ExcelWriter('metadata_before_final_pairing_step.xlsx', engine=\"xlsxwriter\")\n",
    "df_meta_before_pairing.to_excel(writer, sheet_name=\"merged.csv\")\n",
    "df_dnase_pks.to_excel(writer, sheet_name=\"DNase_peaks_filtrd\")\n",
    "df_dnase_signal.to_excel(writer, sheet_name=\"DNase_signal_filtrd\")\n",
    "df_rnase_tsvs.to_excel(writer, sheet_name=\"RNAseq_tsvs_filtrd\")\n",
    "writer.save()"
   ]
  },
  {
   "cell_type": "code",
   "execution_count": null,
   "metadata": {
    "collapsed": true
   },
   "outputs": [],
   "source": []
  }
 ],
 "metadata": {
  "kernelspec": {
   "display_name": "Python 2",
   "language": "python",
   "name": "python2"
  },
  "language_info": {
   "codemirror_mode": {
    "name": "ipython",
    "version": 2
   },
   "file_extension": ".py",
   "mimetype": "text/x-python",
   "name": "python",
   "nbconvert_exporter": "python",
   "pygments_lexer": "ipython2",
   "version": "2.7.13"
  }
 },
 "nbformat": 4,
 "nbformat_minor": 2
}
